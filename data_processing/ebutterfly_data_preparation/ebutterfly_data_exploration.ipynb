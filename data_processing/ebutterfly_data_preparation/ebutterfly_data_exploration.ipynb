{
 "cells": [
  {
   "cell_type": "markdown",
   "source": [
    "#### early exploration of ebutterfly observations (raw files)"
   ],
   "metadata": {
    "collapsed": false
   },
   "id": "d01883e666a355bb"
  },
  {
   "cell_type": "code",
   "execution_count": 1,
   "outputs": [],
   "source": [
    "import pandas as pd"
   ],
   "metadata": {
    "collapsed": false,
    "ExecuteTime": {
     "end_time": "2024-03-15T19:20:57.614782Z",
     "start_time": "2024-03-15T19:20:56.696335Z"
    }
   },
   "id": "963d91bd"
  },
  {
   "cell_type": "markdown",
   "source": [
    "Save USA data > 2010, to use as our dataset"
   ],
   "metadata": {
    "collapsed": false
   },
   "id": "9d2f58977a8cbcc5"
  },
  {
   "cell_type": "code",
   "execution_count": 2,
   "outputs": [
    {
     "ename": "FileNotFoundError",
     "evalue": "[Errno 2] No such file or directory: '/ebutterfly/Darwin/0177350-230224095556074/occurrence_.csv'",
     "output_type": "error",
     "traceback": [
      "\u001B[0;31m---------------------------------------------------------------------------\u001B[0m",
      "\u001B[0;31mFileNotFoundError\u001B[0m                         Traceback (most recent call last)",
      "Cell \u001B[0;32mIn[2], line 1\u001B[0m\n\u001B[0;32m----> 1\u001B[0m butterfly_data \u001B[38;5;241m=\u001B[39m \u001B[43mpd\u001B[49m\u001B[38;5;241;43m.\u001B[39;49m\u001B[43mread_csv\u001B[49m\u001B[43m(\u001B[49m\u001B[38;5;124;43mr\u001B[39;49m\u001B[38;5;124;43m'\u001B[39;49m\u001B[38;5;124;43m/ebutterfly/Darwin/0177350-230224095556074/occurrence_.csv\u001B[39;49m\u001B[38;5;124;43m'\u001B[39;49m\u001B[43m,\u001B[49m\u001B[43m \u001B[49m\n\u001B[1;32m      2\u001B[0m \u001B[43m                  \u001B[49m\u001B[43msep\u001B[49m\u001B[38;5;241;43m=\u001B[39;49m\u001B[38;5;124;43m\"\u001B[39;49m\u001B[38;5;124;43m\t|\t\u001B[39;49m\u001B[38;5;124;43m\"\u001B[39;49m\u001B[43m,\u001B[49m\n\u001B[1;32m      3\u001B[0m \u001B[43m                  \u001B[49m\u001B[43mengine\u001B[49m\u001B[38;5;241;43m=\u001B[39;49m\u001B[38;5;124;43m\"\u001B[39;49m\u001B[38;5;124;43mpython\u001B[39;49m\u001B[38;5;124;43m\"\u001B[39;49m\u001B[43m)\u001B[49m\n\u001B[1;32m      5\u001B[0m butterfly_data_US \u001B[38;5;241m=\u001B[39m butterfly_data[butterfly_data[\u001B[38;5;124m\"\u001B[39m\u001B[38;5;124mcountryCode\u001B[39m\u001B[38;5;124m\"\u001B[39m] \u001B[38;5;241m==\u001B[39m \u001B[38;5;124m'\u001B[39m\u001B[38;5;124mUS\u001B[39m\u001B[38;5;124m'\u001B[39m]\n\u001B[1;32m      6\u001B[0m butterfly_data_US\u001B[38;5;241m.\u001B[39mreset_index(drop\u001B[38;5;241m=\u001B[39m\u001B[38;5;28;01mTrue\u001B[39;00m, inplace\u001B[38;5;241m=\u001B[39m\u001B[38;5;28;01mTrue\u001B[39;00m)\n",
      "File \u001B[0;32m~/miniconda3/envs/main/lib/python3.9/site-packages/pandas/io/parsers/readers.py:948\u001B[0m, in \u001B[0;36mread_csv\u001B[0;34m(filepath_or_buffer, sep, delimiter, header, names, index_col, usecols, dtype, engine, converters, true_values, false_values, skipinitialspace, skiprows, skipfooter, nrows, na_values, keep_default_na, na_filter, verbose, skip_blank_lines, parse_dates, infer_datetime_format, keep_date_col, date_parser, date_format, dayfirst, cache_dates, iterator, chunksize, compression, thousands, decimal, lineterminator, quotechar, quoting, doublequote, escapechar, comment, encoding, encoding_errors, dialect, on_bad_lines, delim_whitespace, low_memory, memory_map, float_precision, storage_options, dtype_backend)\u001B[0m\n\u001B[1;32m    935\u001B[0m kwds_defaults \u001B[38;5;241m=\u001B[39m _refine_defaults_read(\n\u001B[1;32m    936\u001B[0m     dialect,\n\u001B[1;32m    937\u001B[0m     delimiter,\n\u001B[0;32m   (...)\u001B[0m\n\u001B[1;32m    944\u001B[0m     dtype_backend\u001B[38;5;241m=\u001B[39mdtype_backend,\n\u001B[1;32m    945\u001B[0m )\n\u001B[1;32m    946\u001B[0m kwds\u001B[38;5;241m.\u001B[39mupdate(kwds_defaults)\n\u001B[0;32m--> 948\u001B[0m \u001B[38;5;28;01mreturn\u001B[39;00m \u001B[43m_read\u001B[49m\u001B[43m(\u001B[49m\u001B[43mfilepath_or_buffer\u001B[49m\u001B[43m,\u001B[49m\u001B[43m \u001B[49m\u001B[43mkwds\u001B[49m\u001B[43m)\u001B[49m\n",
      "File \u001B[0;32m~/miniconda3/envs/main/lib/python3.9/site-packages/pandas/io/parsers/readers.py:611\u001B[0m, in \u001B[0;36m_read\u001B[0;34m(filepath_or_buffer, kwds)\u001B[0m\n\u001B[1;32m    608\u001B[0m _validate_names(kwds\u001B[38;5;241m.\u001B[39mget(\u001B[38;5;124m\"\u001B[39m\u001B[38;5;124mnames\u001B[39m\u001B[38;5;124m\"\u001B[39m, \u001B[38;5;28;01mNone\u001B[39;00m))\n\u001B[1;32m    610\u001B[0m \u001B[38;5;66;03m# Create the parser.\u001B[39;00m\n\u001B[0;32m--> 611\u001B[0m parser \u001B[38;5;241m=\u001B[39m \u001B[43mTextFileReader\u001B[49m\u001B[43m(\u001B[49m\u001B[43mfilepath_or_buffer\u001B[49m\u001B[43m,\u001B[49m\u001B[43m \u001B[49m\u001B[38;5;241;43m*\u001B[39;49m\u001B[38;5;241;43m*\u001B[39;49m\u001B[43mkwds\u001B[49m\u001B[43m)\u001B[49m\n\u001B[1;32m    613\u001B[0m \u001B[38;5;28;01mif\u001B[39;00m chunksize \u001B[38;5;129;01mor\u001B[39;00m iterator:\n\u001B[1;32m    614\u001B[0m     \u001B[38;5;28;01mreturn\u001B[39;00m parser\n",
      "File \u001B[0;32m~/miniconda3/envs/main/lib/python3.9/site-packages/pandas/io/parsers/readers.py:1448\u001B[0m, in \u001B[0;36mTextFileReader.__init__\u001B[0;34m(self, f, engine, **kwds)\u001B[0m\n\u001B[1;32m   1445\u001B[0m     \u001B[38;5;28mself\u001B[39m\u001B[38;5;241m.\u001B[39moptions[\u001B[38;5;124m\"\u001B[39m\u001B[38;5;124mhas_index_names\u001B[39m\u001B[38;5;124m\"\u001B[39m] \u001B[38;5;241m=\u001B[39m kwds[\u001B[38;5;124m\"\u001B[39m\u001B[38;5;124mhas_index_names\u001B[39m\u001B[38;5;124m\"\u001B[39m]\n\u001B[1;32m   1447\u001B[0m \u001B[38;5;28mself\u001B[39m\u001B[38;5;241m.\u001B[39mhandles: IOHandles \u001B[38;5;241m|\u001B[39m \u001B[38;5;28;01mNone\u001B[39;00m \u001B[38;5;241m=\u001B[39m \u001B[38;5;28;01mNone\u001B[39;00m\n\u001B[0;32m-> 1448\u001B[0m \u001B[38;5;28mself\u001B[39m\u001B[38;5;241m.\u001B[39m_engine \u001B[38;5;241m=\u001B[39m \u001B[38;5;28;43mself\u001B[39;49m\u001B[38;5;241;43m.\u001B[39;49m\u001B[43m_make_engine\u001B[49m\u001B[43m(\u001B[49m\u001B[43mf\u001B[49m\u001B[43m,\u001B[49m\u001B[43m \u001B[49m\u001B[38;5;28;43mself\u001B[39;49m\u001B[38;5;241;43m.\u001B[39;49m\u001B[43mengine\u001B[49m\u001B[43m)\u001B[49m\n",
      "File \u001B[0;32m~/miniconda3/envs/main/lib/python3.9/site-packages/pandas/io/parsers/readers.py:1705\u001B[0m, in \u001B[0;36mTextFileReader._make_engine\u001B[0;34m(self, f, engine)\u001B[0m\n\u001B[1;32m   1703\u001B[0m     \u001B[38;5;28;01mif\u001B[39;00m \u001B[38;5;124m\"\u001B[39m\u001B[38;5;124mb\u001B[39m\u001B[38;5;124m\"\u001B[39m \u001B[38;5;129;01mnot\u001B[39;00m \u001B[38;5;129;01min\u001B[39;00m mode:\n\u001B[1;32m   1704\u001B[0m         mode \u001B[38;5;241m+\u001B[39m\u001B[38;5;241m=\u001B[39m \u001B[38;5;124m\"\u001B[39m\u001B[38;5;124mb\u001B[39m\u001B[38;5;124m\"\u001B[39m\n\u001B[0;32m-> 1705\u001B[0m \u001B[38;5;28mself\u001B[39m\u001B[38;5;241m.\u001B[39mhandles \u001B[38;5;241m=\u001B[39m \u001B[43mget_handle\u001B[49m\u001B[43m(\u001B[49m\n\u001B[1;32m   1706\u001B[0m \u001B[43m    \u001B[49m\u001B[43mf\u001B[49m\u001B[43m,\u001B[49m\n\u001B[1;32m   1707\u001B[0m \u001B[43m    \u001B[49m\u001B[43mmode\u001B[49m\u001B[43m,\u001B[49m\n\u001B[1;32m   1708\u001B[0m \u001B[43m    \u001B[49m\u001B[43mencoding\u001B[49m\u001B[38;5;241;43m=\u001B[39;49m\u001B[38;5;28;43mself\u001B[39;49m\u001B[38;5;241;43m.\u001B[39;49m\u001B[43moptions\u001B[49m\u001B[38;5;241;43m.\u001B[39;49m\u001B[43mget\u001B[49m\u001B[43m(\u001B[49m\u001B[38;5;124;43m\"\u001B[39;49m\u001B[38;5;124;43mencoding\u001B[39;49m\u001B[38;5;124;43m\"\u001B[39;49m\u001B[43m,\u001B[49m\u001B[43m \u001B[49m\u001B[38;5;28;43;01mNone\u001B[39;49;00m\u001B[43m)\u001B[49m\u001B[43m,\u001B[49m\n\u001B[1;32m   1709\u001B[0m \u001B[43m    \u001B[49m\u001B[43mcompression\u001B[49m\u001B[38;5;241;43m=\u001B[39;49m\u001B[38;5;28;43mself\u001B[39;49m\u001B[38;5;241;43m.\u001B[39;49m\u001B[43moptions\u001B[49m\u001B[38;5;241;43m.\u001B[39;49m\u001B[43mget\u001B[49m\u001B[43m(\u001B[49m\u001B[38;5;124;43m\"\u001B[39;49m\u001B[38;5;124;43mcompression\u001B[39;49m\u001B[38;5;124;43m\"\u001B[39;49m\u001B[43m,\u001B[49m\u001B[43m \u001B[49m\u001B[38;5;28;43;01mNone\u001B[39;49;00m\u001B[43m)\u001B[49m\u001B[43m,\u001B[49m\n\u001B[1;32m   1710\u001B[0m \u001B[43m    \u001B[49m\u001B[43mmemory_map\u001B[49m\u001B[38;5;241;43m=\u001B[39;49m\u001B[38;5;28;43mself\u001B[39;49m\u001B[38;5;241;43m.\u001B[39;49m\u001B[43moptions\u001B[49m\u001B[38;5;241;43m.\u001B[39;49m\u001B[43mget\u001B[49m\u001B[43m(\u001B[49m\u001B[38;5;124;43m\"\u001B[39;49m\u001B[38;5;124;43mmemory_map\u001B[39;49m\u001B[38;5;124;43m\"\u001B[39;49m\u001B[43m,\u001B[49m\u001B[43m \u001B[49m\u001B[38;5;28;43;01mFalse\u001B[39;49;00m\u001B[43m)\u001B[49m\u001B[43m,\u001B[49m\n\u001B[1;32m   1711\u001B[0m \u001B[43m    \u001B[49m\u001B[43mis_text\u001B[49m\u001B[38;5;241;43m=\u001B[39;49m\u001B[43mis_text\u001B[49m\u001B[43m,\u001B[49m\n\u001B[1;32m   1712\u001B[0m \u001B[43m    \u001B[49m\u001B[43merrors\u001B[49m\u001B[38;5;241;43m=\u001B[39;49m\u001B[38;5;28;43mself\u001B[39;49m\u001B[38;5;241;43m.\u001B[39;49m\u001B[43moptions\u001B[49m\u001B[38;5;241;43m.\u001B[39;49m\u001B[43mget\u001B[49m\u001B[43m(\u001B[49m\u001B[38;5;124;43m\"\u001B[39;49m\u001B[38;5;124;43mencoding_errors\u001B[39;49m\u001B[38;5;124;43m\"\u001B[39;49m\u001B[43m,\u001B[49m\u001B[43m \u001B[49m\u001B[38;5;124;43m\"\u001B[39;49m\u001B[38;5;124;43mstrict\u001B[39;49m\u001B[38;5;124;43m\"\u001B[39;49m\u001B[43m)\u001B[49m\u001B[43m,\u001B[49m\n\u001B[1;32m   1713\u001B[0m \u001B[43m    \u001B[49m\u001B[43mstorage_options\u001B[49m\u001B[38;5;241;43m=\u001B[39;49m\u001B[38;5;28;43mself\u001B[39;49m\u001B[38;5;241;43m.\u001B[39;49m\u001B[43moptions\u001B[49m\u001B[38;5;241;43m.\u001B[39;49m\u001B[43mget\u001B[49m\u001B[43m(\u001B[49m\u001B[38;5;124;43m\"\u001B[39;49m\u001B[38;5;124;43mstorage_options\u001B[39;49m\u001B[38;5;124;43m\"\u001B[39;49m\u001B[43m,\u001B[49m\u001B[43m \u001B[49m\u001B[38;5;28;43;01mNone\u001B[39;49;00m\u001B[43m)\u001B[49m\u001B[43m,\u001B[49m\n\u001B[1;32m   1714\u001B[0m \u001B[43m\u001B[49m\u001B[43m)\u001B[49m\n\u001B[1;32m   1715\u001B[0m \u001B[38;5;28;01massert\u001B[39;00m \u001B[38;5;28mself\u001B[39m\u001B[38;5;241m.\u001B[39mhandles \u001B[38;5;129;01mis\u001B[39;00m \u001B[38;5;129;01mnot\u001B[39;00m \u001B[38;5;28;01mNone\u001B[39;00m\n\u001B[1;32m   1716\u001B[0m f \u001B[38;5;241m=\u001B[39m \u001B[38;5;28mself\u001B[39m\u001B[38;5;241m.\u001B[39mhandles\u001B[38;5;241m.\u001B[39mhandle\n",
      "File \u001B[0;32m~/miniconda3/envs/main/lib/python3.9/site-packages/pandas/io/common.py:863\u001B[0m, in \u001B[0;36mget_handle\u001B[0;34m(path_or_buf, mode, encoding, compression, memory_map, is_text, errors, storage_options)\u001B[0m\n\u001B[1;32m    858\u001B[0m \u001B[38;5;28;01melif\u001B[39;00m \u001B[38;5;28misinstance\u001B[39m(handle, \u001B[38;5;28mstr\u001B[39m):\n\u001B[1;32m    859\u001B[0m     \u001B[38;5;66;03m# Check whether the filename is to be opened in binary mode.\u001B[39;00m\n\u001B[1;32m    860\u001B[0m     \u001B[38;5;66;03m# Binary mode does not support 'encoding' and 'newline'.\u001B[39;00m\n\u001B[1;32m    861\u001B[0m     \u001B[38;5;28;01mif\u001B[39;00m ioargs\u001B[38;5;241m.\u001B[39mencoding \u001B[38;5;129;01mand\u001B[39;00m \u001B[38;5;124m\"\u001B[39m\u001B[38;5;124mb\u001B[39m\u001B[38;5;124m\"\u001B[39m \u001B[38;5;129;01mnot\u001B[39;00m \u001B[38;5;129;01min\u001B[39;00m ioargs\u001B[38;5;241m.\u001B[39mmode:\n\u001B[1;32m    862\u001B[0m         \u001B[38;5;66;03m# Encoding\u001B[39;00m\n\u001B[0;32m--> 863\u001B[0m         handle \u001B[38;5;241m=\u001B[39m \u001B[38;5;28;43mopen\u001B[39;49m\u001B[43m(\u001B[49m\n\u001B[1;32m    864\u001B[0m \u001B[43m            \u001B[49m\u001B[43mhandle\u001B[49m\u001B[43m,\u001B[49m\n\u001B[1;32m    865\u001B[0m \u001B[43m            \u001B[49m\u001B[43mioargs\u001B[49m\u001B[38;5;241;43m.\u001B[39;49m\u001B[43mmode\u001B[49m\u001B[43m,\u001B[49m\n\u001B[1;32m    866\u001B[0m \u001B[43m            \u001B[49m\u001B[43mencoding\u001B[49m\u001B[38;5;241;43m=\u001B[39;49m\u001B[43mioargs\u001B[49m\u001B[38;5;241;43m.\u001B[39;49m\u001B[43mencoding\u001B[49m\u001B[43m,\u001B[49m\n\u001B[1;32m    867\u001B[0m \u001B[43m            \u001B[49m\u001B[43merrors\u001B[49m\u001B[38;5;241;43m=\u001B[39;49m\u001B[43merrors\u001B[49m\u001B[43m,\u001B[49m\n\u001B[1;32m    868\u001B[0m \u001B[43m            \u001B[49m\u001B[43mnewline\u001B[49m\u001B[38;5;241;43m=\u001B[39;49m\u001B[38;5;124;43m\"\u001B[39;49m\u001B[38;5;124;43m\"\u001B[39;49m\u001B[43m,\u001B[49m\n\u001B[1;32m    869\u001B[0m \u001B[43m        \u001B[49m\u001B[43m)\u001B[49m\n\u001B[1;32m    870\u001B[0m     \u001B[38;5;28;01melse\u001B[39;00m:\n\u001B[1;32m    871\u001B[0m         \u001B[38;5;66;03m# Binary mode\u001B[39;00m\n\u001B[1;32m    872\u001B[0m         handle \u001B[38;5;241m=\u001B[39m \u001B[38;5;28mopen\u001B[39m(handle, ioargs\u001B[38;5;241m.\u001B[39mmode)\n",
      "\u001B[0;31mFileNotFoundError\u001B[0m: [Errno 2] No such file or directory: '/ebutterfly/Darwin/0177350-230224095556074/occurrence_.csv'"
     ]
    }
   ],
   "source": [
    "butterfly_data = pd.read_csv(r'/ebutterfly/Darwin/0177350-230224095556074/occurrence_.csv', \n",
    "                  sep=\"\t|\t\",\n",
    "                  engine=\"python\")\n",
    "\n",
    "butterfly_data_US = butterfly_data[butterfly_data[\"countryCode\"] == 'US']\n",
    "butterfly_data_US.reset_index(drop=True, inplace=True)\n",
    "butterfly_data_US = butterfly_data_US[butterfly_data_US[\"year\"] >= 2010]\n",
    "butterfly_data_US.reset_index(drop=True, inplace=True)\n",
    "butterfly_data_US.to_csv(\"ebutterfly/Darwin/0177350-230224095556074/occ_usa.csv\", index=False)"
   ],
   "metadata": {
    "collapsed": false,
    "ExecuteTime": {
     "end_time": "2024-03-15T19:20:57.884580Z",
     "start_time": "2024-03-15T19:20:57.615704Z"
    }
   },
   "id": "5cb578ee896f47fc"
  },
  {
   "cell_type": "markdown",
   "id": "e64e97c5",
   "metadata": {},
   "source": [
    "# Reading the species file (GBIF annotated archive)"
   ]
  },
  {
   "cell_type": "code",
   "execution_count": null,
   "id": "e72a7b2d",
   "metadata": {},
   "outputs": [],
   "source": [
    "df_species = pd.read_csv(r'/ebutterfly/Species/0177442-230224095556074.csv', \n",
    "                  sep=\"\t|\t\",\n",
    "                  engine=\"python\")"
   ]
  },
  {
   "cell_type": "code",
   "execution_count": null,
   "id": "9b072f7f",
   "metadata": {},
   "outputs": [],
   "source": [
    "df_species.keys()"
   ]
  },
  {
   "cell_type": "code",
   "execution_count": null,
   "id": "b2b197ac",
   "metadata": {},
   "outputs": [],
   "source": [
    "df_species.iloc[0]"
   ]
  },
  {
   "cell_type": "code",
   "execution_count": null,
   "id": "48451386",
   "metadata": {},
   "outputs": [],
   "source": [
    "df_species['numberOfOccurrences'].max()"
   ]
  },
  {
   "cell_type": "code",
   "execution_count": null,
   "id": "1b9bd948",
   "metadata": {},
   "outputs": [],
   "source": [
    "df_species['numberOfOccurrences'].min()"
   ]
  },
  {
   "cell_type": "code",
   "execution_count": null,
   "id": "4186a87b",
   "metadata": {},
   "outputs": [],
   "source": [
    "df_species['numberOfOccurrences'].mean()"
   ]
  },
  {
   "cell_type": "markdown",
   "id": "335e207f",
   "metadata": {},
   "source": [
    "# Reading the simple file  (GBIF annotated archive)\n",
    "which includes occurances, each with their unique ID, location (lat, long), species, country, date"
   ]
  },
  {
   "cell_type": "code",
   "execution_count": null,
   "id": "c157346b",
   "metadata": {},
   "outputs": [],
   "source": [
    "df_obs = pd.read_csv(r'ebutterfly/Simple/0177310-230224095556074.csv', \n",
    "                  sep=\"\t|\t\",\n",
    "                  engine=\"python\")"
   ]
  },
  {
   "cell_type": "code",
   "execution_count": null,
   "id": "526082c9",
   "metadata": {},
   "outputs": [],
   "source": [
    "df_obs.keys()"
   ]
  },
  {
   "cell_type": "code",
   "execution_count": null,
   "id": "9e683c94",
   "metadata": {},
   "outputs": [],
   "source": [
    "df_obs"
   ]
  },
  {
   "cell_type": "code",
   "execution_count": null,
   "id": "5796babf",
   "metadata": {},
   "outputs": [],
   "source": [
    "df_obs['countryCode'].value_counts()"
   ]
  },
  {
   "cell_type": "code",
   "execution_count": null,
   "id": "445631f9",
   "metadata": {},
   "outputs": [],
   "source": [
    "df_obs.iloc[df_obs.index[df_obs['taxonKey']  == 1918309]]"
   ]
  },
  {
   "cell_type": "code",
   "execution_count": null,
   "id": "65d5f52c",
   "metadata": {},
   "outputs": [],
   "source": [
    "df_obs.iloc[100]"
   ]
  },
  {
   "cell_type": "code",
   "execution_count": null,
   "id": "924566e8",
   "metadata": {},
   "outputs": [],
   "source": [
    "df_obs.groupby([\"decimalLatitude\", \"decimalLongitude\"]).size()"
   ]
  },
  {
   "cell_type": "code",
   "execution_count": null,
   "id": "617a3b95",
   "metadata": {},
   "outputs": [],
   "source": [
    "df_obs['decimalLatitude'].unique().shape"
   ]
  },
  {
   "cell_type": "code",
   "execution_count": null,
   "id": "b6828300",
   "metadata": {},
   "outputs": [],
   "source": [
    "df_obs['decimalLongitude'].unique().shape"
   ]
  },
  {
   "cell_type": "code",
   "execution_count": null,
   "id": "5dc86119",
   "metadata": {},
   "outputs": [],
   "source": [
    "df_obs.index[df2['year'] > 2000]"
   ]
  },
  {
   "cell_type": "code",
   "execution_count": null,
   "id": "1ffd25d9",
   "metadata": {},
   "outputs": [],
   "source": [
    "df_temp = df_obs.iloc[df_obs.index[(df_obs['year'] > 2000) & (df_obs['year'] < 2022)]]"
   ]
  },
  {
   "cell_type": "code",
   "execution_count": null,
   "id": "5aac99c7",
   "metadata": {},
   "outputs": [],
   "source": [
    "df_temp.shape"
   ]
  },
  {
   "cell_type": "code",
   "execution_count": null,
   "id": "6bd653ff",
   "metadata": {},
   "outputs": [],
   "source": [
    "df_temp['year'].hist()"
   ]
  },
  {
   "cell_type": "code",
   "execution_count": null,
   "id": "954a4eb6",
   "metadata": {},
   "outputs": [],
   "source": [
    "df_temp['month'].value_counts()"
   ]
  },
  {
   "cell_type": "code",
   "execution_count": null,
   "id": "2db60d15",
   "metadata": {},
   "outputs": [],
   "source": [
    "df_temp.loc[df_temp.index[(df_temp['month'] == 6)]]['countryCode'].value_counts()"
   ]
  },
  {
   "cell_type": "code",
   "execution_count": null,
   "id": "6d1fa412",
   "metadata": {},
   "outputs": [],
   "source": [
    "final_df = df_temp.loc[df_temp.index[(df_temp['month'] == 6) & (df_temp['countryCode'] == \"US\")]]"
   ]
  },
  {
   "cell_type": "code",
   "execution_count": null,
   "id": "0e0917f6",
   "metadata": {},
   "outputs": [],
   "source": [
    "final_df['species']"
   ]
  },
  {
   "cell_type": "code",
   "execution_count": null,
   "id": "14013d74",
   "metadata": {},
   "outputs": [],
   "source": [
    "final_df['species'].value_counts()"
   ]
  },
  {
   "cell_type": "code",
   "execution_count": null,
   "id": "f3f50e30",
   "metadata": {},
   "outputs": [],
   "source": [
    "final_df.groupby([\"decimalLatitude\", \"decimalLongitude\"]).size()"
   ]
  },
  {
   "cell_type": "code",
   "execution_count": null,
   "id": "c5138a53",
   "metadata": {},
   "outputs": [],
   "source": [
    "final_df['kingdom'].value_counts()"
   ]
  },
  {
   "cell_type": "code",
   "execution_count": null,
   "id": "de901b36",
   "metadata": {},
   "outputs": [],
   "source": [
    "final_df['phylum'].value_counts()"
   ]
  },
  {
   "cell_type": "code",
   "execution_count": null,
   "id": "a686fdc1",
   "metadata": {},
   "outputs": [],
   "source": [
    "final_df['class'].value_counts()"
   ]
  },
  {
   "cell_type": "code",
   "execution_count": null,
   "id": "8ef8eb51",
   "metadata": {},
   "outputs": [],
   "source": [
    "final_df['order'].value_counts()"
   ]
  },
  {
   "cell_type": "code",
   "execution_count": null,
   "id": "dfe7b031",
   "metadata": {},
   "outputs": [],
   "source": [
    "final_df['family'].value_counts()"
   ]
  },
  {
   "cell_type": "code",
   "execution_count": null,
   "id": "49563c48",
   "metadata": {},
   "outputs": [],
   "source": [
    "final_df['genus'].value_counts()"
   ]
  },
  {
   "cell_type": "markdown",
   "id": "b55efc79",
   "metadata": {},
   "source": [
    "# Reading the occurances.txt file (GBIF annotated archive)"
   ]
  },
  {
   "cell_type": "code",
   "execution_count": null,
   "id": "4c956c6b",
   "metadata": {},
   "outputs": [],
   "source": [
    "# this file needs more memory than what I have \n",
    "df_all_occurances = pd.read_csv(r'ebutterfly/Darwin/0177350-230224095556074/all_occ.csv', \n",
    "                  sep=\"\t|\t\",\n",
    "                  engine=\"python\")"
   ]
  },
  {
   "cell_type": "code",
   "execution_count": null,
   "id": "710b9cfd",
   "metadata": {},
   "outputs": [],
   "source": [
    "df_all_occurances"
   ]
  },
  {
   "cell_type": "code",
   "execution_count": null,
   "id": "b478b191",
   "metadata": {},
   "outputs": [],
   "source": [
    "df_all_occurances.columns"
   ]
  },
  {
   "cell_type": "code",
   "execution_count": null,
   "id": "2eb482e8",
   "metadata": {},
   "outputs": [],
   "source": [
    "df_all_occurances['eventID'].value_counts()"
   ]
  },
  {
   "cell_type": "code",
   "execution_count": null,
   "id": "80e81de0",
   "metadata": {},
   "outputs": [],
   "source": [
    "df_all_occurances['countryCode'].value_counts()"
   ]
  },
  {
   "cell_type": "code",
   "execution_count": null,
   "outputs": [],
   "source": [
    "butterfly_data_US = butterfly_data[butterfly_data[\"countryCode\"] == 'US']\n",
    "butterfly_data_US.reset_index(drop=True, inplace=True)\n",
    "butterfly_data_US = butterfly_data_US[butterfly_data_US[\"year\"] >= 2010]\n",
    "butterfly_data_US.reset_index(drop=True, inplace=True)\n",
    "butterfly_data_US.to_csv(\"ebutterfly/Darwin/0177350-230224095556074/occ_usa.csv\", index=False)"
   ],
   "metadata": {
    "collapsed": false
   },
   "id": "dc335f66aeb80a7f"
  },
  {
   "cell_type": "markdown",
   "id": "8bab7b3e",
   "metadata": {},
   "source": [
    "'verbatimLocality' ->location\n",
    "'occurrenceID' -> eb-observation\n",
    "'eventID' -> eb-checklist\n",
    "'locationID' -> eb-site\n",
    "'species'\n",
    "'decimalLatitude'\n",
    "'decimalLongitude'\n",
    "'taxonID' -> eb-species"
   ]
  },
  {
   "cell_type": "code",
   "execution_count": 4,
   "id": "bc131078",
   "metadata": {},
   "outputs": [],
   "source": [
    "df_occurances = pd.read_csv(r'/home/hagerradi/projects/Ecosystem_embeddings/ebutterfly/Darwin/0177350-230224095556074/partial_occ.csv', \n",
    "                  sep=\"\t|\t\",\n",
    "                  engine=\"python\")"
   ]
  },
  {
   "cell_type": "code",
   "execution_count": 5,
   "id": "b685d5e7",
   "metadata": {},
   "outputs": [
    {
     "data": {
      "text/plain": [
       "Index(['gbifID', 'abstract', 'accessRights', 'accrualMethod',\n",
       "       'accrualPeriodicity', 'accrualPolicy', 'alternative', 'audience',\n",
       "       'available', 'bibliographicCitation', 'conformsTo', 'contributor',\n",
       "       'coverage', 'created', 'creator', 'date', 'dateAccepted',\n",
       "       'dateCopyrighted', 'dateSubmitted', 'description', 'educationLevel',\n",
       "       'extent', 'format', 'hasFormat', 'hasPart', 'hasVersion', 'identifier',\n",
       "       'instructionalMethod', 'isFormatOf', 'isPartOf', 'isReferencedBy',\n",
       "       'isReplacedBy', 'isRequiredBy', 'isVersionOf', 'issued', 'language',\n",
       "       'license', 'mediator', 'medium', 'modified', 'provenance', 'publisher',\n",
       "       'references', 'relation', 'replaces', 'requires', 'rights',\n",
       "       'rightsHolder', 'source', 'spatial', 'subject', 'tableOfContents',\n",
       "       'temporal', 'title', 'type', 'valid', 'institutionID', 'collectionID',\n",
       "       'datasetID', 'institutionCode', 'collectionCode', 'datasetName',\n",
       "       'ownerInstitutionCode', 'basisOfRecord', 'informationWithheld',\n",
       "       'dataGeneralizations', 'dynamicProperties', 'occurrenceID',\n",
       "       'catalogNumber', 'recordNumber', 'recordedBy', 'recordedByID',\n",
       "       'individualCount', 'organismQuantity', 'organismQuantityType', 'sex',\n",
       "       'lifeStage', 'reproductiveCondition', 'behavior', 'establishmentMeans',\n",
       "       'degreeOfEstablishment', 'pathway', 'georeferenceVerificationStatus',\n",
       "       'occurrenceStatus', 'preparations', 'disposition',\n",
       "       'associatedOccurrences', 'associatedReferences', 'associatedSequences',\n",
       "       'associatedTaxa', 'otherCatalogNumbers', 'occurrenceRemarks',\n",
       "       'organismID', 'organismName', 'organismScope', 'associatedOrganisms',\n",
       "       'previousIdentifications', 'organismRemarks', 'materialSampleID',\n",
       "       'eventID'],\n",
       "      dtype='object')"
      ]
     },
     "execution_count": 5,
     "metadata": {},
     "output_type": "execute_result"
    }
   ],
   "source": [
    "df_occurances.keys()[0:100]"
   ]
  },
  {
   "cell_type": "code",
   "execution_count": 6,
   "id": "4d3a5f15",
   "metadata": {},
   "outputs": [
    {
     "data": {
      "text/plain": [
       "Index(['parentEventID', 'fieldNumber', 'eventDate', 'eventTime',\n",
       "       'startDayOfYear', 'endDayOfYear', 'year', 'month', 'day',\n",
       "       'verbatimEventDate', 'habitat', 'samplingProtocol', 'sampleSizeValue',\n",
       "       'sampleSizeUnit', 'samplingEffort', 'fieldNotes', 'eventRemarks',\n",
       "       'locationID', 'higherGeographyID', 'higherGeography', 'continent',\n",
       "       'waterBody', 'islandGroup', 'island', 'countryCode', 'stateProvince',\n",
       "       'county', 'municipality', 'locality', 'verbatimLocality',\n",
       "       'verbatimElevation', 'verticalDatum', 'verbatimDepth',\n",
       "       'minimumDistanceAboveSurfaceInMeters',\n",
       "       'maximumDistanceAboveSurfaceInMeters', 'locationAccordingTo',\n",
       "       'locationRemarks', 'decimalLatitude', 'decimalLongitude',\n",
       "       'coordinateUncertaintyInMeters', 'coordinatePrecision',\n",
       "       'pointRadiusSpatialFit', 'verbatimCoordinateSystem', 'verbatimSRS',\n",
       "       'footprintWKT', 'footprintSRS', 'footprintSpatialFit',\n",
       "       'georeferencedBy', 'georeferencedDate', 'georeferenceProtocol',\n",
       "       'georeferenceSources', 'georeferenceRemarks', 'geologicalContextID',\n",
       "       'earliestEonOrLowestEonothem', 'latestEonOrHighestEonothem',\n",
       "       'earliestEraOrLowestErathem', 'latestEraOrHighestErathem',\n",
       "       'earliestPeriodOrLowestSystem', 'latestPeriodOrHighestSystem',\n",
       "       'earliestEpochOrLowestSeries', 'latestEpochOrHighestSeries',\n",
       "       'earliestAgeOrLowestStage', 'latestAgeOrHighestStage',\n",
       "       'lowestBiostratigraphicZone', 'highestBiostratigraphicZone',\n",
       "       'lithostratigraphicTerms', 'group', 'formation', 'member', 'bed',\n",
       "       'identificationID', 'verbatimIdentification', 'identificationQualifier',\n",
       "       'typeStatus', 'identifiedBy', 'identifiedByID', 'dateIdentified',\n",
       "       'identificationReferences', 'identificationVerificationStatus',\n",
       "       'identificationRemarks', 'taxonID', 'scientificNameID',\n",
       "       'acceptedNameUsageID', 'parentNameUsageID', 'originalNameUsageID',\n",
       "       'nameAccordingToID', 'namePublishedInID', 'taxonConceptID',\n",
       "       'scientificName', 'acceptedNameUsage', 'parentNameUsage',\n",
       "       'originalNameUsage', 'nameAccordingTo', 'namePublishedIn',\n",
       "       'namePublishedInYear', 'higherClassification', 'kingdom', 'phylum',\n",
       "       'class', 'order'],\n",
       "      dtype='object')"
      ]
     },
     "execution_count": 6,
     "metadata": {},
     "output_type": "execute_result"
    }
   ],
   "source": [
    "df_occurances.keys()[100:200]"
   ]
  },
  {
   "cell_type": "code",
   "execution_count": 7,
   "id": "d15da1ca",
   "metadata": {},
   "outputs": [
    {
     "data": {
      "text/plain": [
       "Index(['family', 'subfamily', 'genus', 'genericName', 'subgenus',\n",
       "       'infragenericEpithet', 'specificEpithet', 'infraspecificEpithet',\n",
       "       'cultivarEpithet', 'taxonRank', 'verbatimTaxonRank', 'vernacularName',\n",
       "       'nomenclaturalCode', 'taxonomicStatus', 'nomenclaturalStatus',\n",
       "       'taxonRemarks', 'datasetKey', 'publishingCountry', 'lastInterpreted',\n",
       "       'elevation', 'elevationAccuracy', 'depth', 'depthAccuracy',\n",
       "       'distanceAboveSurface', 'distanceAboveSurfaceAccuracy',\n",
       "       'distanceFromCentroidInMeters', 'issue', 'mediaType', 'hasCoordinate',\n",
       "       'hasGeospatialIssues', 'taxonKey', 'acceptedTaxonKey', 'kingdomKey',\n",
       "       'phylumKey', 'classKey', 'orderKey', 'familyKey', 'genusKey',\n",
       "       'subgenusKey', 'speciesKey', 'species', 'acceptedScientificName',\n",
       "       'verbatimScientificName', 'typifiedName', 'protocol', 'lastParsed',\n",
       "       'lastCrawled', 'repatriated', 'relativeOrganismQuantity', 'level0Gid',\n",
       "       'level0Name', 'level1Gid', 'level1Name', 'level2Gid', 'level2Name',\n",
       "       'level3Gid', 'level3Name', 'iucnRedListCategory', 'eventType'],\n",
       "      dtype='object')"
      ]
     },
     "execution_count": 7,
     "metadata": {},
     "output_type": "execute_result"
    }
   ],
   "source": [
    "df_occurances.keys()[200:]"
   ]
  },
  {
   "cell_type": "code",
   "execution_count": null,
   "id": "d9b9d818",
   "metadata": {},
   "outputs": [],
   "source": [
    "df_occurances['eventID'].value_counts()"
   ]
  },
  {
   "cell_type": "code",
   "execution_count": null,
   "id": "fb15b629",
   "metadata": {},
   "outputs": [],
   "source": [
    "df_occurances.iloc[0].values.tolist()"
   ]
  },
  {
   "cell_type": "markdown",
   "id": "06bc414c",
   "metadata": {},
   "source": [
    "# Reading the occurances.txt file (Source archive)\n",
    "mapping observations to a checklist"
   ]
  },
  {
   "cell_type": "code",
   "execution_count": null,
   "id": "b9bac09f",
   "metadata": {},
   "outputs": [],
   "source": [
    "df_checklists = pd.read_csv(r'/ebutterfly/Soure_archive/dwca-ebutterfly-v1.409/occurrence_.csv', sep='\\t', engine=\"python\")"
   ]
  },
  {
   "cell_type": "code",
   "execution_count": null,
   "id": "01e2c24f",
   "metadata": {},
   "outputs": [],
   "source": [
    "df_checklists.keys()"
   ]
  },
  {
   "cell_type": "code",
   "execution_count": null,
   "id": "bbeccc6f",
   "metadata": {},
   "outputs": [],
   "source": [
    "df_checklists"
   ]
  },
  {
   "cell_type": "code",
   "execution_count": null,
   "id": "d567fe3b",
   "metadata": {},
   "outputs": [],
   "source": [
    "df_checklists['eventID'].value_counts()"
   ]
  },
  {
   "cell_type": "code",
   "execution_count": null,
   "id": "9232b6b4",
   "metadata": {},
   "outputs": [],
   "source": [
    "occ_ids = df_checklists.iloc[df_checklists.index[df['id'] == 'eb-checklist-123487']]['occurrenceID'].values.tolist()"
   ]
  },
  {
   "cell_type": "code",
   "execution_count": null,
   "id": "22e9b0da",
   "metadata": {},
   "outputs": [],
   "source": [
    "eb_checklist_63464 = df_checklists.iloc[df_checklists.index[df_checklists['occurrenceID'].isin(occ_ids)]]"
   ]
  },
  {
   "cell_type": "code",
   "execution_count": null,
   "id": "59a70eb6",
   "metadata": {},
   "outputs": [],
   "source": [
    "eb_checklist_63464[\"decimalLatitude\"].value_counts()"
   ]
  },
  {
   "cell_type": "code",
   "execution_count": null,
   "id": "69d9f9a2",
   "metadata": {},
   "outputs": [],
   "source": [
    "eb_checklist_63464[\"decimalLongitude\"].value_counts()"
   ]
  },
  {
   "cell_type": "code",
   "execution_count": null,
   "id": "ba649264",
   "metadata": {},
   "outputs": [],
   "source": [
    "eb_checklist_63464['species']"
   ]
  },
  {
   "cell_type": "markdown",
   "source": [
    "# ebirdxebutterfly"
   ],
   "metadata": {
    "collapsed": false
   },
   "id": "36ec3171e9d09cd7"
  },
  {
   "cell_type": "code",
   "execution_count": null,
   "outputs": [],
   "source": [
    "import pandas as pd\n",
    "import numpy as np\n",
    "import json\n",
    "from matplotlib import pyplot as plt\n",
    "import csv\n",
    "from tqdm import tqdm"
   ],
   "metadata": {
    "collapsed": false
   },
   "id": "ca94d08c4f61da8c"
  },
  {
   "cell_type": "markdown",
   "source": [
    "## ebutterfly"
   ],
   "metadata": {
    "collapsed": false
   },
   "id": "1aa983743cd7ce41"
  },
  {
   "cell_type": "code",
   "execution_count": null,
   "outputs": [],
   "source": [
    "butterfly_data = pd.read_csv(r'/ebutterfly/Darwin/0177350-230224095556074/occurrence_.csv', \n",
    "                  sep=\"\t|\t\",\n",
    "                  engine=\"python\")"
   ],
   "metadata": {
    "collapsed": false
   },
   "id": "efe73755a5a002ae"
  },
  {
   "cell_type": "code",
   "execution_count": null,
   "outputs": [],
   "source": [
    "buttefly_data_US = pd.read_csv(\"/ebutterfly/Darwin/0177350-230224095556074/occ_usa.csv\")\n",
    "print(buttefly_data_US.shape)"
   ],
   "metadata": {
    "collapsed": false
   },
   "id": "6ac6855b7db3e42a"
  },
  {
   "cell_type": "code",
   "execution_count": null,
   "outputs": [],
   "source": [
    "ebutterfly_species_list = buttefly_data_US[\"taxonID\"].unique()"
   ],
   "metadata": {
    "collapsed": false
   },
   "id": "6b414abb8e3bffb9"
  },
  {
   "cell_type": "code",
   "execution_count": null,
   "outputs": [],
   "source": [
    "buttefly_data_US[\"locationID\"].value_counts()"
   ],
   "metadata": {
    "collapsed": false
   },
   "id": "40eeab26aff6d2b3"
  },
  {
   "cell_type": "code",
   "execution_count": null,
   "outputs": [],
   "source": [
    "US_unique_locations = buttefly_data_US[\"verbatimLocality\"].value_counts()"
   ],
   "metadata": {
    "collapsed": false
   },
   "id": "5bde790ecd974368"
  },
  {
   "cell_type": "code",
   "execution_count": null,
   "outputs": [],
   "source": [
    "count = 0\n",
    "for loc in US_unique_locations.keys():\n",
    "    if (US_unique_locations[loc] > 1):\n",
    "        print(US_unique_locations[loc], loc)\n",
    "        count += 1\n",
    "print(count)"
   ],
   "metadata": {
    "collapsed": false
   },
   "id": "404194499a418bed"
  },
  {
   "cell_type": "code",
   "execution_count": null,
   "outputs": [],
   "source": [
    "buttefly_data_US.iloc[buttefly_data_US.index[buttefly_data_US[\"verbatimLocality\"] == \"Bartram's Garden\"]]['decimalLatitude']"
   ],
   "metadata": {
    "collapsed": false
   },
   "id": "6977187d333bfd10"
  },
  {
   "cell_type": "code",
   "execution_count": null,
   "outputs": [],
   "source": [
    "ebutterfly_checklist_ids = buttefly_data_US[\"eventID\"].unique()\n"
   ],
   "metadata": {
    "collapsed": false
   },
   "id": "26e0a4e44b2eed30"
  },
  {
   "cell_type": "code",
   "execution_count": null,
   "outputs": [],
   "source": [
    "species = {}\n",
    "print(len(ebutterfly_species_list))\n",
    "ebutterfly_species_list = [x for x in ebutterfly_species_list if str(x) != 'nan']\n",
    "print(len(ebutterfly_species_list))\n",
    "\n",
    "for i, species_id in enumerate(ebutterfly_species_list):\n",
    "    species[species_id] = i"
   ],
   "metadata": {
    "collapsed": false
   },
   "id": "f5b917db41c88bb8"
  },
  {
   "cell_type": "code",
   "execution_count": null,
   "outputs": [],
   "source": [
    "checklists = {}\n",
    "for checklist_id in tqdm(ebutterfly_checklist_ids):\n",
    "    species_in_checklist = buttefly_data_US.iloc[buttefly_data_US.index[buttefly_data_US[\"eventID\"] == checklist_id]][\"taxonID\"].values\n",
    "#     species_vals = [species.get(key) for key in species_in_checklist]\n",
    "#     print(species_vals, species_in_checklist)\n",
    "    checklists[\"checklist_id\"] = species_in_checklist"
   ],
   "metadata": {
    "collapsed": false
   },
   "id": "15ce597964e26b85"
  },
  {
   "cell_type": "markdown",
   "source": [
    "## ebird"
   ],
   "metadata": {
    "collapsed": false
   },
   "id": "ec4eb90f446e644f"
  },
  {
   "cell_type": "code",
   "execution_count": null,
   "outputs": [],
   "source": [
    "ebird_data = pd.read_csv(r'ebird/all_summer_hotspots.csv')"
   ],
   "metadata": {
    "collapsed": false
   },
   "id": "2a1293368d696c40"
  },
  {
   "cell_type": "code",
   "execution_count": null,
   "outputs": [],
   "source": [
    "ebird_data.groupby([\"hotspot_name\"]).size()"
   ],
   "metadata": {
    "collapsed": false
   },
   "id": "73c9130599ed62ed"
  },
  {
   "cell_type": "code",
   "execution_count": null,
   "outputs": [],
   "source": [
    "ebird_data[\"hotspot_name\"].value_counts()"
   ],
   "metadata": {
    "collapsed": false
   },
   "id": "8dab1cb8c0335f1b"
  },
  {
   "cell_type": "code",
   "execution_count": null,
   "outputs": [],
   "source": [
    "t = np.unique(ebird_data[\"hotspot_name\"].values.tolist(), return_counts=True)"
   ],
   "metadata": {
    "collapsed": false
   },
   "id": "28cdf142e19e6c9"
  },
  {
   "cell_type": "code",
   "execution_count": null,
   "outputs": [],
   "source": [
    "ebird_locations = ebird_data[\"hotspot_name\"].values.tolist()\n",
    "ebuttefly_locations = buttefly_data_US[\"verbatimLocality\"].values.tolist()\n",
    "locations_overlap = list(set(ebird_locations) & set(ebuttefly_locations))"
   ],
   "metadata": {
    "collapsed": false
   },
   "id": "11e77f95c150e305"
  },
  {
   "cell_type": "code",
   "execution_count": null,
   "outputs": [],
   "source": [
    "buttefly_data_US"
   ],
   "metadata": {
    "collapsed": false
   },
   "id": "1bd1b9cb3a68fe0b"
  },
  {
   "cell_type": "code",
   "execution_count": null,
   "outputs": [],
   "source": [
    "ebird_data"
   ],
   "metadata": {
    "collapsed": false
   },
   "id": "bfcd863a84042859"
  },
  {
   "cell_type": "code",
   "execution_count": null,
   "outputs": [],
   "source": [
    "locations_overlap"
   ],
   "metadata": {
    "collapsed": false
   },
   "id": "3fabb506a3c3618c"
  },
  {
   "cell_type": "code",
   "execution_count": null,
   "outputs": [],
   "source": [
    "len(locations_overlap)"
   ],
   "metadata": {
    "collapsed": false
   },
   "id": "556e0263be555a15"
  },
  {
   "cell_type": "markdown",
   "source": [
    "### Parse the overlapped locations:\n"
   ],
   "metadata": {
    "collapsed": false
   },
   "id": "d2cd4db841a158f5"
  },
  {
   "cell_type": "code",
   "execution_count": null,
   "outputs": [],
   "source": [
    "for loc_id in locations_overlap:\n",
    "    d1 = ebird_data.iloc[ebird_data.index[ebird_data[\"hotspot_name\"] == loc_id]]\n",
    "    d2 = buttefly_data_US.iloc[buttefly_data_US.index[buttefly_data_US[\"verbatimLocality\"] == loc_id]]"
   ],
   "metadata": {
    "collapsed": false
   },
   "id": "31f737e9b0080193"
  },
  {
   "cell_type": "code",
   "execution_count": null,
   "outputs": [],
   "source": [
    "df_1 = ebird_data[[\"lon\", \"lat\"]]\n",
    "df_2 = buttefly_data_US.drop_duplicates(subset=[\"decimalLongitude\", \"decimalLatitude\"])"
   ],
   "metadata": {
    "collapsed": false
   },
   "id": "1c490bc82d4f98f1"
  },
  {
   "cell_type": "code",
   "execution_count": null,
   "outputs": [],
   "source": [
    "df_2 = df_2.rename(columns={\"decimalLongitude\": \"lon\", \"decimalLatitude\": \"lat\"})"
   ],
   "metadata": {
    "collapsed": false
   },
   "id": "820ac4317392a3e"
  },
  {
   "cell_type": "code",
   "execution_count": null,
   "outputs": [],
   "source": [
    "df_lon_lat = pd.concat([df_1, df_2], axis=0)"
   ],
   "metadata": {
    "collapsed": false
   },
   "id": "caf626366d38c8de"
  },
  {
   "cell_type": "code",
   "execution_count": null,
   "outputs": [],
   "source": [
    "grouped_df = df_lon_lat.groupby([\"lon\", \"lat\"])\n",
    "\n",
    "group_counts = df_lon_lat[[\"lon\", \"lat\"]].value_counts().rename('count')\n",
    "\n",
    "sorted_unique_values = group_counts.groupby(level=0).apply(lambda x: x.sort_values(ascending=False)).reset_index()\n",
    "\n",
    "print(sorted_unique_values[sorted_unique_values[\"count\"] > 1])"
   ],
   "metadata": {
    "collapsed": false
   },
   "id": "614ced195eca24b2"
  },
  {
   "cell_type": "code",
   "execution_count": null,
   "outputs": [],
   "source": [
    "import folium\n",
    "import pandas as pd\n",
    "from IPython.display import display\n",
    "\n",
    "map_center = [37.0902, -95.7129] # USA center coordinates\n",
    "map_zoom = 4\n",
    "map_obj = folium.Map(location=map_center, zoom_start=map_zoom, tiles='Stamen Terrain')\n",
    "\n",
    "#ebird - blue\n",
    "for index, row in df_1.iterrows():\n",
    "    lat = row['lat']\n",
    "    lon = row['lon']\n",
    "    folium.CircleMarker(\n",
    "        location=[lat, lon],\n",
    "        radius=5,\n",
    "        color='blue',\n",
    "        fill=True,\n",
    "        fill_color='blue',\n",
    "        fill_opacity=0.6\n",
    "    ).add_to(map_obj)\n",
    "\n",
    "    # ebutterfly - red\n",
    "for index, row in df_2.iterrows():\n",
    "    lat = row['lat']\n",
    "    lon = row['lon']\n",
    "    folium.CircleMarker(\n",
    "        location=[lat, lon],\n",
    "        radius=5,\n",
    "        color='red',\n",
    "        fill=True,\n",
    "        fill_color='blue',\n",
    "        fill_opacity=0.6\n",
    "    ).add_to(map_obj)\n",
    "    \n",
    "# Display the map\n",
    "display(map_obj)"
   ],
   "metadata": {
    "collapsed": false
   },
   "id": "e5af01b3a4488520"
  }
 ],
 "metadata": {
  "kernelspec": {
   "display_name": "Python 3 (ipykernel)",
   "language": "python",
   "name": "python3"
  },
  "language_info": {
   "codemirror_mode": {
    "name": "ipython",
    "version": 3
   },
   "file_extension": ".py",
   "mimetype": "text/x-python",
   "name": "python",
   "nbconvert_exporter": "python",
   "pygments_lexer": "ipython3",
   "version": "3.7.11"
  }
 },
 "nbformat": 4,
 "nbformat_minor": 5
}
