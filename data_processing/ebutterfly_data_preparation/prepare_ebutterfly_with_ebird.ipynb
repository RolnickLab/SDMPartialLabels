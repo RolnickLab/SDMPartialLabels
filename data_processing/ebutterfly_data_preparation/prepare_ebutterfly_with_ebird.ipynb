{
 "cells": [
  {
   "cell_type": "markdown",
   "source": [
    "This notebook prepares the ebutterfly data, co-located with ebird, SatButterfly-v2. It starts with clustering the observations around ebird hotspots (with KNN), creates the targets by aggregating the checklists, saves final csv for the hotspots"
   ],
   "metadata": {
    "collapsed": false
   },
   "id": "3d0ff4a1b53dfb62"
  },
  {
   "cell_type": "code",
   "execution_count": null,
   "outputs": [],
   "source": [
    "import pandas as pd\n",
    "import numpy as np\n",
    "from tqdm import tqdm\n",
    "from haversine import haversine, Unit\n",
    "from sklearn.neighbors import BallTree\n",
    "import os\n",
    "import json"
   ],
   "metadata": {
    "collapsed": false
   },
   "id": "5539851bd215af07"
  },
  {
   "cell_type": "code",
   "execution_count": null,
   "outputs": [],
   "source": [
    "root_dir = \"/Users/hagerradi/Projects/DavidRolnick_collab/Ecosystem_embeddings/ebutterfly/Darwin/SatButterfly_dataset\"\n",
    "dataset_tag = \"SatButterfly_v2\""
   ],
   "metadata": {
    "collapsed": false
   },
   "id": "37088bcb70036394"
  },
  {
   "cell_type": "code",
   "execution_count": null,
   "outputs": [],
   "source": [
    "# load butterfly observations in the USA\n",
    "buttefly_data_US = pd.read_csv(os.path.join(root_dir, \"occ_usa.csv\"))\n",
    "buttefly_data_US = buttefly_data_US.drop_duplicates()\n",
    "print(buttefly_data_US.head())"
   ],
   "metadata": {
    "collapsed": false
   },
   "id": "a96bb7b745f49966"
  },
  {
   "cell_type": "code",
   "execution_count": null,
   "outputs": [],
   "source": [
    "# load SatBird-USA-summer data\n",
    "satbird_USA_summer = pd.read_csv(os.path.join(root_dir, \"satbird_usa_summer_hotspots_final.csv\"))\n",
    "print(satbird_USA_summer.head())"
   ],
   "metadata": {
    "collapsed": false
   },
   "id": "1ff18bee17e002d8"
  },
  {
   "cell_type": "markdown",
   "source": [
    "# 1. Get intersections between ebutterfly and ebird data"
   ],
   "metadata": {
    "collapsed": false
   },
   "id": "300a8835d544c3bf"
  },
  {
   "cell_type": "code",
   "execution_count": null,
   "outputs": [],
   "source": [
    "class KNN:\n",
    "    \"\"\"\n",
    "    KNN based on BallTree, used for clustering the data points\n",
    "    \"\"\"\n",
    "    def __init__(self, k=5):\n",
    "        self.k = k\n",
    "        self.RADIUS_EARTH = 6356.7523  # in km, polar radius of Earth\n",
    "\n",
    "    def fit(self, X):\n",
    "        self.X_train = X\n",
    "        self.tree = BallTree(np.deg2rad(X), metric='haversine')\n",
    "\n",
    "    def haversine_distance(self, x1, x2):\n",
    "        return haversine((x1[0], x1[1]), (x2[0], x2[1]), unit=Unit.KILOMETERS)\n",
    "\n",
    "    def predict_slow(self, X):\n",
    "        dist, index = [], []\n",
    "        for x in tqdm(X):\n",
    "            d, i = self._predict_single(x)\n",
    "            dist.append(d)\n",
    "            index.append(i)\n",
    "        return np.array(dist), np.array(index)\n",
    "    \n",
    "    def predict(self, X):\n",
    "        dist, index = self.tree.query(np.deg2rad(X), k=self.k)\n",
    "        dist = dist * self.RADIUS_EARTH\n",
    "        return dist, index\n",
    "\n",
    "    def _predict_single(self, x):\n",
    "        # Compute distances between x and all examples in the training set\n",
    "        distances = [self.haversine_distance(x, x_train) for x_train in self.X_train]\n",
    "        # Get indices of k nearest neighbors\n",
    "        return min(distances), np.argmin(distances)\n",
    "\n",
    "\n",
    "def get_colocated_butterfly_with_SatBird(buttefly_data_US, satbird_USA_summer):\n",
    "    \"\"\" use KNN to locate butterfly observations with SatBird hotspots\n",
    "    Parameters:\n",
    "        buttefly_data_US (Pandas DataFrame): all butterfly observations in the USA\n",
    "        satbird_USA_summer (Pandas DataFrame) : Satbird USA summer hotspots\n",
    "    Returns:\n",
    "          filtered_butterfly_data \n",
    "    \"\"\"\n",
    "    coordinates = buttefly_data_US[['decimalLatitude', 'decimalLongitude']].values\n",
    "    center_coordinates = satbird_USA_summer[['lat', 'lon']].values\n",
    "    \n",
    "    # Create a KNN classifier, with k=1\n",
    "    knn = KNN(k=1)\n",
    "    \n",
    "    # fit ebird hotspots\n",
    "    knn.fit(center_coordinates)\n",
    "    \n",
    "    # cluster ebutterfly observations into ebird hotspts\n",
    "    distances, indices = knn.predict(coordinates)\n",
    "    \n",
    "    print(len(distances), distances.min(), distances.max())\n",
    "    print(len(indices))\n",
    "    \n",
    "    buttefly_data_US['ebird_hotspot'] = satbird_USA_summer.iloc[indices.flatten()]['hotspot_id'].values\n",
    "    buttefly_data_US['ebird_lon'] = satbird_USA_summer.iloc[indices.flatten()]['lon'].values\n",
    "    buttefly_data_US['ebird_lat'] = satbird_USA_summer.iloc[indices.flatten()]['lat'].values\n",
    "    buttefly_data_US['distance'] = distances\n",
    "    buttefly_data_US['ebird_split'] = satbird_USA_summer.iloc[indices.flatten()]['split'].values\n",
    "    \n",
    "    # kilometer threshold for distance\n",
    "    km_threshold = 1\n",
    "    \n",
    "    # final butterfly data after filtering out outliers\n",
    "    filtered_butterfly_data = buttefly_data_US[buttefly_data_US.distance < km_threshold].reset_index()\n",
    "    \n",
    "    print(filtered_butterfly_data['ebird_hotspot'].value_counts())\n",
    "    print(filtered_butterfly_data)\n",
    "    print(filtered_butterfly_data[['decimalLatitude', 'decimalLongitude', 'ebird_hotspot', 'ebird_lat', 'ebird_lon', 'distance', 'ebird_split']])\n",
    "    \n",
    "    return filtered_butterfly_data\n",
    "\n",
    "filtered_butterfly_data = get_colocated_butterfly_with_SatBird(buttefly_data_US, satbird_USA_summer)\n",
    "filtered_butterfly_data.to_csv(os.path.join(root_dir, dataset_tag, \"butterfly_data_with_distance_wSatBird.csv\"))"
   ],
   "metadata": {
    "collapsed": false
   },
   "id": "988e943f1e39ac5"
  },
  {
   "cell_type": "markdown",
   "source": [
    "# 2. Group butterfly checklists based on final hotspots"
   ],
   "metadata": {
    "collapsed": false
   },
   "id": "ea19daf315f0b8f3"
  },
  {
   "cell_type": "code",
   "execution_count": null,
   "outputs": [],
   "source": [
    "def group_clusters(butterfly_df):\n",
    "    \"\"\" groups observations according to the center of clusters (hotspot_ID)\n",
    "    Parameters:\n",
    "        butterfly_df: Pandas DataFrame of butterfly observations\n",
    "    Returns: \n",
    "    \"\"\"\n",
    "    grouped_butterfly_data = butterfly_df.groupby(['ebird_hotspot'])\n",
    "    group_sizes = grouped_butterfly_data.size()\n",
    "    print(group_sizes)\n",
    "    \n",
    "    return grouped_butterfly_data\n",
    "\n",
    "\n",
    "clustered_butterfly_data = pd.read_csv(os.path.join(root_dir, dataset_tag, \"butterfly_data_with_distance_wSatBird.csv\"))\n",
    "grouped_butterfly_data = group_clusters(clustered_butterfly_data)"
   ],
   "metadata": {
    "collapsed": false
   },
   "id": "36417be9bc84c3de"
  },
  {
   "cell_type": "code",
   "execution_count": null,
   "outputs": [],
   "source": [
    "def save_species_list(df):\n",
    "    \"\"\" save species list of all unique species, with their frequency\n",
    "    Parameters:\n",
    "        df: Pandas DataFrame of butterfly observations\n",
    "    Returns: \n",
    "    \"\"\"\n",
    "    species_df = df['species'].value_counts()\n",
    "    \n",
    "    species_df = species_df.reset_index()\n",
    "    species_df.columns = ['species', 'frequency']\n",
    "    \n",
    "    species_df.to_csv(os.path.join(root_dir, dataset_tag, 'species/full_species_list.csv'), index=False)\n",
    "    \n",
    "    species_list = species_df[\"species\"].values.tolist()\n",
    "    \n",
    "    print(len(species_list), species_list)\n",
    "    \n",
    "    total_number_of_checklists = len(filtered_butterfly_data[\"eventID\"].unique().tolist())\n",
    "    print(total_number_of_checklists)\n",
    "\n",
    "    return species_list\n",
    "\n",
    "species_list = save_species_list(filtered_butterfly_data)"
   ],
   "metadata": {
    "collapsed": false
   },
   "id": "9f91719302b4242"
  },
  {
   "cell_type": "markdown",
   "source": [
    "# 3. Save target files "
   ],
   "metadata": {
    "collapsed": false
   },
   "id": "94c265845cb4a3c8"
  },
  {
   "cell_type": "code",
   "execution_count": null,
   "outputs": [],
   "source": [
    "def compute_target_files(grouped_butterfly_data, output_folder, species_list):\n",
    "    \"\"\"Creates targets by aggregating checklists, and saves json file per hotspot in output_folder\n",
    "    Parameters:\n",
    "        grouped_butterfly_data: Pandas DataFrame all butterfly observations, grouped per hotspot\n",
    "        output_folder: folder name to save .json target files\n",
    "        species_list: list of species to consider\n",
    "    Returns:\n",
    "    \"\"\"\n",
    "    non_zero_target = []\n",
    "    for group_name, group_data in tqdm(grouped_butterfly_data):\n",
    "        target = {}\n",
    "        checklist_ = np.zeros(len(species_list))\n",
    "        # dropping species that appear more than once in the same checklist\n",
    "        new_df = group_data[['eventID', 'species']]\n",
    "        new_df = new_df.drop_duplicates(['eventID', 'species'])\n",
    "\n",
    "        for sp in new_df['species']:\n",
    "            if sp in species_list:\n",
    "                checklist_[species_list.index(sp)] += 1\n",
    "\n",
    "        target['num_complete_checklists'] = len(group_data['eventID'].unique())\n",
    "        checklist_ = checklist_ / target['num_complete_checklists']\n",
    "        if np.max(checklist_) > 1 :\n",
    "            problems.append(group_name)\n",
    "        # # NEW: to match SatBird scale\n",
    "        # if target['num_complete_checklists'] < 5:\n",
    "        #     continue\n",
    "        non_zero_target.append(np.count_nonzero(checklist_))\n",
    "        target['probs'] = checklist_.tolist()\n",
    "        \n",
    "        target['hotspot_id'] = group_name[0]\n",
    "\n",
    "        with open(os.path.join(output_folder, group_name[0] + '.json'), 'w') as fp:\n",
    "            json.dump(target, fp)\n",
    "    \n",
    "path = os.path.join(root_dir, dataset_tag, 'butterfly_targets_v1.2')\n",
    "if not os.path.exists(path):\n",
    "    os.mkdir(path)\n",
    "\n",
    "# species_list to use is the intersection of species among this dataset, SatButterfly-v2, and the non-located butterflies dataset, SatButterfly-v1, (total species: 172)\n",
    "final_species_list_intersect = open(os.path.join(root_dir, 'species/intersection_species_list_frequency_ge100.txt')).read().split(\"\\n\") \n",
    "compute_target_files(grouped_butterfly_data, path, final_species_list_intersect)"
   ],
   "metadata": {
    "collapsed": false
   },
   "id": "c3d0d0d734d49275"
  },
  {
   "cell_type": "markdown",
   "source": [
    "# 4. Create final csv"
   ],
   "metadata": {
    "collapsed": false
   },
   "id": "59e8bcfabdf2184a"
  },
  {
   "cell_type": "code",
   "execution_count": null,
   "outputs": [],
   "source": [
    "def save_final_csv(grouped_butterfly_data, output_filename='butterfly_hotspots.csv'):\n",
    "    \"\"\" saves csv file with final hotspots with columns: hotspot_name, lon, lat, number_of_observations, number_of_unique_checklists, number_of_unique_species, env variables\n",
    "    Parameters:\n",
    "        grouped_butterfly_data: Pandas DataFrame all butterfly observations, grouped per hotspot\n",
    "        output_filename: filename to save\n",
    "    Returns:\n",
    "    \"\"\"\n",
    "    hotspot_ids = []\n",
    "    lats, lons = [], []\n",
    "    number_of_butterfly_obs = []\n",
    "    number_of_unique_checklists = []\n",
    "    number_of_different_species = []\n",
    "    \n",
    "    bio_env_column_names = ['bio_1', 'bio_2', 'bio_3', 'bio_4', 'bio_5',\n",
    "           'bio_6', 'bio_7', 'bio_8', 'bio_9', 'bio_10', 'bio_11', 'bio_12',\n",
    "           'bio_13', 'bio_14', 'bio_15', 'bio_16', 'bio_17', 'bio_18', 'bio_19']\n",
    "    ped_env_column_names = ['bdticm', 'bldfie', 'cecsol', 'clyppt', 'orcdrc', 'phihox', 'sltppt', 'sndppt']\n",
    "    location_info = ['county_code', 'state', 'state_code']\n",
    "    \n",
    "    for group_name, group_data in tqdm(grouped_butterfly_data):\n",
    "        # # NEW: to match SatBird scale\n",
    "        # if len(group_data['eventID'].unique()) < 5:\n",
    "        #     continue\n",
    "        hotspot_ids.append(group_name[0])\n",
    "        lats.append(group_data['ebird_lat'].iloc[0])\n",
    "        lons.append(group_data['ebird_lon'].iloc[0])\n",
    "        number_of_butterfly_obs.append(len(group_data['occurrenceID']))\n",
    "        number_of_unique_checklists.append(len(group_data['eventID'].unique()))\n",
    "        number_of_different_species.append(len(group_data['species'].unique()))\n",
    "    \n",
    "    final_data_frame = pd.DataFrame({'hotspot_id': hotspot_ids,\n",
    "                                     'lat': lats,\n",
    "                                     'lon': lons,\n",
    "                                     'ebutterfly_occurances': number_of_butterfly_obs,\n",
    "                                     'num_checklists': number_of_unique_checklists,\n",
    "                                     'num_species': number_of_different_species})\n",
    "        \n",
    "    \n",
    "    indices = satbird_USA_summer[satbird_USA_summer['hotspot_id'].isin(final_data_frame['hotspot_id'])].index\n",
    "    \n",
    "    bio_env_indices = [satbird_USA_summer.columns.get_loc(c) for c in bio_env_column_names]\n",
    "    ped_env_indices = [satbird_USA_summer.columns.get_loc(c) for c in ped_env_column_names]\n",
    "    location_info_indices = [satbird_USA_summer.columns.get_loc(c) for c in location_info]\n",
    "    \n",
    "    final_data_frame[bio_env_column_names] = satbird_USA_summer.iloc[indices, bio_env_indices].values\n",
    "    final_data_frame[ped_env_column_names] = satbird_USA_summer.iloc[indices, ped_env_indices].values\n",
    "    final_data_frame[location_info] = satbird_USA_summer.iloc[indices, location_info_indices].values\n",
    "    final_data_frame.to_csv(os.path.join(root_dir, dataset_tag, output_filename) , index=False)\n",
    "\n",
    "\n",
    "save_final_csv(grouped_butterfly_data, output_filename='butterfly_hotspots_ebird_all.csv')"
   ],
   "metadata": {
    "collapsed": false
   },
   "id": "6a24f8a18d58d0a2"
  },
  {
   "cell_type": "markdown",
   "source": [
    "# 5. Create train/val/test splits"
   ],
   "metadata": {
    "collapsed": false
   },
   "id": "9883b7307a758520"
  },
  {
   "cell_type": "code",
   "execution_count": null,
   "outputs": [],
   "source": [
    "def resplit_ebutterfly_with_ebird(ebutterfly_df, ebird_df):\n",
    "    \"\"\" split butterfly hotspots aligned with train/val/test splits, and saves files\n",
    "    Parameters:\n",
    "        ebutterfly_df (Pandas DataFrame): dataframe with all butterfly hotspots \n",
    "        ebird_df (Pandas DataFrame): dataframe with SatBird-USA-summer hotspots\n",
    "    Returns:\n",
    "    \"\"\"\n",
    "    out = ebutterfly_df.merge(ebird_df[['hotspot_id', 'split']], on='hotspot_id', how='right')\n",
    "    ebutterfly_df = out[out['hotspot_id'].isin(ebutterfly_df['hotspot_id'])]\n",
    "    print(ebutterfly_df['split'].value_counts())\n",
    "    \n",
    "    ebutterfly_df.to_csv(os.path.join(root_dir, dataset_tag, 'butterfly_hotspots_ebird_splits.csv') , index=False)\n",
    "\n",
    "    grouped_butterfly_data = ebutterfly_df.groupby(['split'], as_index=False)\n",
    "\n",
    "    for group_name, group_data in tqdm(grouped_butterfly_data):\n",
    "        group_data.to_csv(os.path.join(root_dir, dataset_tag, \"butterfly_hotspots_ebird_\" + str(group_name[0]) + \".csv\"))\n",
    "    \n",
    "final_ebutterfly_df = pd.read_csv(os.path.join(root_dir, dataset_tag, 'butterfly_hotspots_ebird_all.csv'))\n",
    "print(final_ebutterfly_df)\n",
    "final_ebird_df = pd.read_csv(os.path.join(root_dir, 'satbird_usa_summer_hotspots_final.csv'))\n",
    "resplit_ebutterfly_with_ebird(final_ebutterfly_df, final_ebird_df)"
   ],
   "metadata": {
    "collapsed": false
   },
   "id": "b1c903a377ba653"
  },
  {
   "cell_type": "markdown",
   "source": [
    "# 5. Visualize map after splitting"
   ],
   "metadata": {
    "collapsed": false
   },
   "id": "1cd7c412fc61337e"
  },
  {
   "cell_type": "code",
   "execution_count": null,
   "outputs": [],
   "source": [
    "import os\n",
    "import sys\n",
    "from pathlib import Path\n",
    "\n",
    "sys.path.append(str(Path().resolve().parent))\n",
    "sys.path.append(str(Path().resolve().parent.parent))\n",
    "\n",
    "import numpy as np\n",
    "import pandas as pd\n",
    "import json\n",
    "\n",
    "import geopandas as gpd\n",
    "import matplotlib.pyplot as plt\n",
    "\n",
    "from shapely.geometry import Point\n",
    "\n",
    "path = os.path.join(root_dir, dataset_tag, \"butterfly_hotspots_ebird_splits.csv\")\n",
    "\n",
    "df = pd.read_csv(path)\n",
    "df = df.drop_duplicates(\"hotspot_id\")\n",
    "\n",
    "geoDatav = gpd.read_file('https://raw.githubusercontent.com/holtzy/The-Python-Graph-Gallery/master/static/data/US-counties.geojson')\n",
    "\n",
    "geometry = [Point(xy) for xy in zip(df['lon'], df['lat'])]\n",
    "gdf = gpd.GeoDataFrame(df, geometry=geometry)   \n",
    "\n",
    "ig, ax = plt.subplots(figsize =(15,10))\n",
    "#train_gdf.drop_duplicates([\"geometry\"]).boundary.plot(ax = ax, alpha = 0.4, edgecolor = \"gray\")\n",
    "geoDatav[~geoDatav[\"STATE\"].isin([\"02\", \"15\"])].boundary.plot(ax=ax, alpha = 0.1, edgecolor = \"gray\" )\n",
    "gdf[gdf[\"split\"]==\"train\"].plot(ax=ax,marker='o', color='mediumslateblue', markersize=1, label = \"train\")\n",
    "gdf[gdf[\"split\"]==\"valid\"].plot(ax=ax, marker='o', color='lightseagreen', markersize=1, label = \"valid\")\n",
    "gdf[gdf[\"split\"]==\"test\"].plot(ax=ax, marker='o', color='lightsalmon', markersize=1, label = \"test\")\n",
    "\n",
    "plt.legend(fontsize=16, markerscale=5,loc='lower right',  bbox_to_anchor=(0.92, 0.25))\n",
    "plt.title(\"butterfly Hotspots\")\n",
    "ig.savefig(os.path.join(root_dir, dataset_tag, \"satbutterfly_v2_data_dist.pdf\"),  bbox_inches='tight')\n",
    "plt.show()"
   ],
   "metadata": {
    "collapsed": false
   },
   "id": "38c8feea72a7e3c"
  },
  {
   "cell_type": "markdown",
   "source": [
    "Final files saved:\n",
    "[('valid', 1076), ('test', 958), ('train', 4650)]"
   ],
   "metadata": {
    "collapsed": false
   },
   "id": "1ece2f463d4b7173"
  }
 ],
 "metadata": {
  "kernelspec": {
   "display_name": "Python 3 (ipykernel)",
   "language": "python",
   "name": "python3"
  },
  "language_info": {
   "codemirror_mode": {
    "name": "ipython",
    "version": 3
   },
   "file_extension": ".py",
   "mimetype": "text/x-python",
   "name": "python",
   "nbconvert_exporter": "python",
   "pygments_lexer": "ipython3",
   "version": "3.7.11"
  }
 },
 "nbformat": 4,
 "nbformat_minor": 5
}
