{
 "cells": [
  {
   "cell_type": "markdown",
   "id": "6116bc3b",
   "metadata": {},
   "source": [
    "This notebook prepares the ebutterfly data, co-located with ebird, starts with clustering the observations around ebird hotspots (using BallTree), creates the targets by aggregating the checklists, saves final csv for the hotspots"
   ]
  },
  {
   "cell_type": "markdown",
   "id": "5020def2",
   "metadata": {},
   "source": [
    "# 1. get intersections between ebutterfly and ebird data"
   ]
  },
  {
   "cell_type": "code",
   "execution_count": null,
   "id": "40c24db3",
   "metadata": {},
   "outputs": [],
   "source": [
    "import pandas as pd\n",
    "import numpy as np\n",
    "from tqdm import tqdm\n",
    "from haversine import haversine, Unit\n",
    "from sklearn.neighbors import BallTree\n",
    "import os"
   ]
  },
  {
   "cell_type": "code",
   "execution_count": null,
   "id": "997de191",
   "metadata": {},
   "outputs": [],
   "source": [
    "root_dir = \"/home/hagerradi/projects/Ecosystem_embeddings/ebutterfly/Darwin/0177350-230224095556074\"\n",
    "dataset_tag = \"SatButterfly_v2\""
   ]
  },
  {
   "cell_type": "code",
   "execution_count": null,
   "id": "e99ed150",
   "metadata": {},
   "outputs": [],
   "source": [
    "buttefly_data_US = pd.read_csv(os.path.join(root_dir, \"occ_usa.csv\"))"
   ]
  },
  {
   "cell_type": "code",
   "execution_count": null,
   "id": "c570573b",
   "metadata": {},
   "outputs": [],
   "source": [
    "buttefly_data_US"
   ]
  },
  {
   "cell_type": "code",
   "execution_count": null,
   "id": "8958c696",
   "metadata": {},
   "outputs": [],
   "source": [
    "buttefly_data_US = buttefly_data_US.drop_duplicates()"
   ]
  },
  {
   "cell_type": "code",
   "execution_count": null,
   "id": "9935c434",
   "metadata": {},
   "outputs": [],
   "source": [
    "buttefly_data_US['genus'].value_counts()"
   ]
  },
  {
   "cell_type": "code",
   "execution_count": null,
   "id": "bb378e12",
   "metadata": {},
   "outputs": [],
   "source": [
    "buttefly_data_US"
   ]
  },
  {
   "cell_type": "code",
   "execution_count": null,
   "id": "11a53694",
   "metadata": {},
   "outputs": [],
   "source": [
    "\n",
    "satbird_USA_summer = pd.read_csv(os.path.join(root_dir, dataset_tag, \"all_summer_hotspots_final.csv\"))\n",
    "\n",
    "print(satbird_USA_summer)\n",
    "print(buttefly_data_US)\n",
    "\n",
    "RADIUS_EARTH = 6356.7523  # in km, polar radius of Earth\n",
    "\n",
    "# KNN based on BallTree, used for clustering the data points\n",
    "class KNN:\n",
    "    def __init__(self, k=5):\n",
    "        self.k = k\n",
    "\n",
    "    def fit(self, X):\n",
    "        self.X_train = X\n",
    "        self.tree = BallTree(np.deg2rad(X), metric='haversine')\n",
    "\n",
    "    def haversine_distance(self, x1, x2):\n",
    "        return haversine((x1[0], x1[1]), (x2[0], x2[1]), unit=Unit.KILOMETERS)\n",
    "\n",
    "    def predict_slow(self, X):\n",
    "        dist, index = [], []\n",
    "        for x in tqdm(X):\n",
    "            d, i = self._predict_single(x)\n",
    "            dist.append(d)\n",
    "            index.append(i)\n",
    "        return np.array(dist), np.array(index)\n",
    "    \n",
    "    def predict(self, X):\n",
    "        dist, index = self.tree.query(np.deg2rad(X), k=self.k)\n",
    "        dist = dist * RADIUS_EARTH\n",
    "        return dist, index\n",
    "\n",
    "    def _predict_single(self, x):\n",
    "        # Compute distances between x and all examples in the training set\n",
    "        distances = [self.haversine_distance(x, x_train) for x_train in self.X_train]\n",
    "        # Get indices of k nearest neighbors\n",
    "        return min(distances), np.argmin(distances)\n",
    "\n",
    "coordinates = buttefly_data_US[['decimalLatitude', 'decimalLongitude']].values\n",
    "center_coordinates = satbird_USA_summer[['lat', 'lon']].values\n",
    "\n",
    "# Create a KNN classifier, with k=1\n",
    "knn = KNN(k=1)\n",
    "\n",
    "# fit ebird hotspots\n",
    "knn.fit(center_coordinates)\n",
    "\n",
    "# cluster ebutterfly observations into ebird hotspts\n",
    "distances, indices = knn.predict(coordinates)\n",
    "\n",
    "print(len(distances), distances.min(), distances.max())\n",
    "print(len(indices))\n",
    "\n",
    "buttefly_data_US['ebird_hotspot'] = satbird_USA_summer.iloc[indices.flatten()]['hotspot_id'].values\n",
    "buttefly_data_US['ebird_lon'] = satbird_USA_summer.iloc[indices.flatten()]['lon'].values\n",
    "buttefly_data_US['ebird_lat'] = satbird_USA_summer.iloc[indices.flatten()]['lat'].values\n",
    "buttefly_data_US['distance'] = distances\n",
    "buttefly_data_US['ebird_split'] = satbird_USA_summer.iloc[indices.flatten()]['split'].values\n",
    "\n",
    "km_threshold = 1\n",
    "\n",
    "# final butterfly data after filtering out outliers\n",
    "filtered_butterfly_data = buttefly_data_US[buttefly_data_US.distance < km_threshold].reset_index()\n",
    "\n",
    "print(filtered_butterfly_data['ebird_hotspot'].value_counts())\n",
    "print(filtered_butterfly_data)\n",
    "print(filtered_butterfly_data[['decimalLatitude', 'decimalLongitude', 'ebird_hotspot', 'ebird_lat', 'ebird_lon', 'distance', 'ebird_split']])\n",
    "\n",
    "filtered_butterfly_data.to_csv(os.path.join(root_dir, dataset_tag, \"butterfly_data_with_distance.csv\"))"
   ]
  },
  {
   "cell_type": "markdown",
   "id": "6517fed9",
   "metadata": {},
   "source": [
    "# 2. some analysis"
   ]
  },
  {
   "cell_type": "code",
   "execution_count": null,
   "id": "44e20150",
   "metadata": {},
   "outputs": [],
   "source": [
    "satbird_USA_summer.columns"
   ]
  },
  {
   "cell_type": "code",
   "execution_count": null,
   "id": "dd1a5a9b",
   "metadata": {},
   "outputs": [],
   "source": [
    "hotspots = filtered_butterfly_data['ebird_hotspot'].value_counts()\n",
    "\n",
    "print(hotspots)\n",
    "\n",
    "print(len(hotspots > 1000))\n",
    "print(hotspots.min(), hotspots.max(), hotspots.mean(), hotspots.median())\n",
    "\n",
    "value_counts_filtered = hotspots[hotspots > 200]\n",
    "\n",
    "print(value_counts_filtered)\n",
    "\n",
    "import matplotlib.pyplot as plt\n",
    "import numpy as np\n",
    "%matplotlib inline\n",
    "\n",
    "# plt.hist(hotspots, density=False, bins=30)  # density=False would make counts\n",
    "plt.plot(hotspots.keys(), hotspots)  # density=False would make counts\n",
    "plt.show()"
   ]
  },
  {
   "cell_type": "code",
   "execution_count": null,
   "id": "05233b28",
   "metadata": {},
   "outputs": [],
   "source": [
    "del distances\n",
    "del knn"
   ]
  },
  {
   "cell_type": "code",
   "execution_count": null,
   "id": "dd96a9ef",
   "metadata": {},
   "outputs": [],
   "source": [
    "import matplotlib\n",
    "import matplotlib.pyplot as plt\n",
    "# import cartopy\n",
    "# import cartopy.crs as ccrs\n",
    "import geopandas as gpd\n",
    "from shapely.geometry import Point\n",
    "\n",
    "\n",
    "fig = plt.figure(figsize=(10, 6))\n",
    "ax = fig.add_subplot(1, 1, 1)\n",
    "\n",
    "# ax.set_extent([-125, -66.5, 20, 50], ccrs.Geodetic())\n",
    "# ax.coastlines()\n",
    "\n",
    "colors = {'train': 'b', 'test':'y', 'valid':'m'}\n",
    "\n",
    "# ax.plot(tiny_butterfly['decimalLongitude'], tiny_butterfly['decimalLatitude'], 'go', transform=ccrs.PlateCarree())\n",
    "# ax.plot(tiny_butterfly['ebird_lon'], tiny_butterfly['ebird_lat'], 'ro', transform=ccrs.PlateCarree())\n",
    "\n",
    "ax.scatter(x=filtered_butterfly_data['ebird_lon'], y=filtered_butterfly_data['ebird_lat'], color='grey')\n",
    "# ax.scatter(x=filtered_butterfly_data['decimalLongitude'], y=filtered_butterfly_data['decimalLatitude'], color='red')\n",
    "ax.scatter(x=center_lons, y=center_lats, color='green')\n",
    "\n",
    "# ax.scatter(x=tiny_satbird['lon'], y=tiny_satbird['lat'], color='blue')\n",
    "\n",
    "plt.show()\n",
    "\n",
    "ax.set_title('Coordinates on USA Map')\n",
    "ax.set_xlabel('Longitude')\n",
    "ax.set_ylabel('Latitude')\n",
    "\n",
    "plt.show()"
   ]
  },
  {
   "cell_type": "code",
   "execution_count": null,
   "id": "cfd77138",
   "metadata": {},
   "outputs": [],
   "source": [
    "filtered_butterfly_data"
   ]
  },
  {
   "cell_type": "markdown",
   "id": "814ac2d2",
   "metadata": {},
   "source": [
    "# 3. group butterfly checklists based on final hotspots"
   ]
  },
  {
   "cell_type": "code",
   "execution_count": null,
   "id": "8c350539",
   "metadata": {},
   "outputs": [],
   "source": [
    "filtered_butterfly_data = pd.read_csv(os.path.join(root_dir, dataset_tag, \"butterfly_data_with_distance.csv\"))\n",
    "grouped_butterfly_data = filtered_butterfly_data.groupby(['ebird_hotspot'])\n",
    "group_sizes = grouped_butterfly_data.size()\n",
    "\n",
    "print(group_sizes)"
   ]
  },
  {
   "cell_type": "code",
   "execution_count": null,
   "id": "06a2ec78",
   "metadata": {},
   "outputs": [],
   "source": [
    "filtered_butterfly_data[\"species\"].value_counts() # doesn't include Nands"
   ]
  },
  {
   "cell_type": "code",
   "execution_count": null,
   "id": "b797ae9f",
   "metadata": {},
   "outputs": [],
   "source": [
    "filtered_butterfly_data[\"species\"].unique().tolist() # includes Nans"
   ]
  },
  {
   "cell_type": "code",
   "execution_count": null,
   "id": "969a736a",
   "metadata": {},
   "outputs": [],
   "source": [
    "# save species list of all unique species\n",
    "\n",
    "species_df = filtered_butterfly_data['species'].value_counts()\n",
    "\n",
    "species_df = species_df.reset_index()\n",
    "species_df.columns = ['species', 'frequency']\n",
    "\n",
    "species_df.to_csv(os.path.join(root_dir, dataset_tag, 'species_list.csv'), index=False)\n",
    "\n",
    "species_list = species_df[\"species\"].values.tolist()\n",
    "\n",
    "print(species_list)\n",
    "print(len(species_list))"
   ]
  },
  {
   "cell_type": "code",
   "execution_count": null,
   "id": "a4d2e7ce",
   "metadata": {},
   "outputs": [],
   "source": [
    "total_number_of_checklists = len(filtered_butterfly_data[\"eventID\"].unique().tolist())\n",
    "print(total_number_of_checklists)"
   ]
  },
  {
   "cell_type": "markdown",
   "id": "faba1c50",
   "metadata": {},
   "source": [
    "# External Update to species list "
   ]
  },
  {
   "cell_type": "code",
   "execution_count": null,
   "id": "5abda0b6",
   "metadata": {},
   "outputs": [],
   "source": [
    "# create targets by aggregating checklists\n",
    "import json\n",
    "\n",
    "def compute_target_files(grouped_butterfly_data, output_folder, species_list):\n",
    "\n",
    "    non_zero_target = []\n",
    "    for group_name, group_data in tqdm(grouped_butterfly_data):\n",
    "        target = {}\n",
    "        checklist_ = np.zeros(len(species_list))\n",
    "        # dropping species that appear more than once in the same checklist\n",
    "        new_df = group_data[['eventID', 'species']]\n",
    "        new_df = new_df.drop_duplicates(['eventID', 'species'])\n",
    "\n",
    "        for sp in new_df['species']:\n",
    "            if sp in species_list:\n",
    "                checklist_[species_list.index(sp)] += 1\n",
    "\n",
    "        target['num_complete_checklists'] = len(group_data['eventID'].unique())\n",
    "        checklist_ = checklist_ / target['num_complete_checklists']\n",
    "        if np.max(checklist_) > 1 :\n",
    "            problems.append(group_name)\n",
    "\n",
    "        non_zero_target.append(np.count_nonzero(checklist_))\n",
    "        target['probs'] = checklist_.tolist()\n",
    "        target['hotspot_id'] = group_name\n",
    "\n",
    "\n",
    "        with open(os.path.join(output_folder, group_name + '.json'), 'w') as fp:\n",
    "            json.dump(target, fp)\n",
    "    \n",
    "path = os.path.join(root_dir, dataset_tag, 'butterfly_targets_v1.2')\n",
    "if not os.path.exists(path):\n",
    "    os.mkdir(path)\n",
    "\n",
    "# species_list to use is the intersecton of species among this dataset and the non-located butterflies dataset (172)\n",
    "final_species_list_intersect = open(os.path.join(root_dir, 'intersection_species_list_>=100.txt')).read().split(\"\\n\") \n",
    "print(len(final_species_list_intersect))\n",
    "print(final_species_list_intersect)\n",
    "\n",
    "# compute_target_files(grouped_butterfly_data, path, final_species_list_intersect)"
   ]
  },
  {
   "cell_type": "markdown",
   "id": "108b008a",
   "metadata": {},
   "source": [
    "## Some analysis on targets"
   ]
  },
  {
   "cell_type": "code",
   "execution_count": null,
   "id": "e3edfc34",
   "metadata": {},
   "outputs": [],
   "source": [
    "import numpy as np\n",
    "import json\n",
    "import glob\n",
    "\n",
    "non_zero_target = []\n",
    "\n",
    "for file in glob.glob(\"corrected_targets/*\"):\n",
    "    arr = json.load(open(\"corrected_targets/\"+file))\n",
    "    probs = arr[\"probs\"]\n",
    "    non_zero_target.append(np.count_nonzero(checklist_))\n",
    "\n",
    "np.save(\"ebird_non_zeros_targets.npy\", np.array(non_zero_targets))"
   ]
  },
  {
   "cell_type": "code",
   "execution_count": null,
   "id": "502b3583",
   "metadata": {},
   "outputs": [],
   "source": [
    "# percentage of non-zero encounter rates vs. zero encounter rates\n",
    "100*np.sum(non_zero_target)/(len(non_zero_target)*601)"
   ]
  },
  {
   "cell_type": "code",
   "execution_count": null,
   "id": "6940f51f",
   "metadata": {},
   "outputs": [],
   "source": [
    "# in all Satbird-USA summer:\n",
    "ebird_freq = np.load(os.path.join(root_dir, dataset_tag, 'satbird_species_frequencies_updated.npy'))"
   ]
  },
  {
   "cell_type": "code",
   "execution_count": null,
   "id": "6184d143",
   "metadata": {},
   "outputs": [],
   "source": [
    "print(ebird_freq.min(), ebird_freq.max())"
   ]
  },
  {
   "cell_type": "code",
   "execution_count": null,
   "id": "327e8564",
   "metadata": {},
   "outputs": [],
   "source": [
    "len(ebird_freq[ebird_freq > 20])"
   ]
  },
  {
   "cell_type": "code",
   "execution_count": null,
   "id": "b9435bda",
   "metadata": {},
   "outputs": [],
   "source": [
    "import matplotlib.pyplot as plt\n",
    "import numpy as np\n",
    "\n",
    "plt.hist(non_zero_target)\n",
    "plt.xlim(0, 100)\n",
    "plt.xlabel(\"non-zero encounter rates (k) per checklist\")\n",
    "plt.ylabel(\"Count\")\n",
    "plt.title(\"ebutterfly\")\n",
    "plt.show()"
   ]
  },
  {
   "cell_type": "code",
   "execution_count": null,
   "id": "0c2be0f3",
   "metadata": {},
   "outputs": [],
   "source": [
    "import matplotlib.pyplot as plt\n",
    "import numpy as np\n",
    "non_zero_target = np.load(os.path.join(root_dir, dataset_tag, 'ebird_non_zeros_targets.npy'))\n",
    "plt.hist(non_zero_target)\n",
    "# plt.xlim(0, 100)\n",
    "plt.xlabel(\"non-zero encounter rates (k) per checklist\")\n",
    "plt.ylabel(\"Count\")\n",
    "plt.title(\"ebird\")\n",
    "plt.show()"
   ]
  },
  {
   "cell_type": "code",
   "execution_count": null,
   "id": "912ea341",
   "metadata": {},
   "outputs": [],
   "source": [
    "import matplotlib.pyplot as plt\n",
    "import numpy as np\n",
    "\n",
    "print(np.mean(species_freq), np.std(species_freq), np.max(species_freq))\n",
    "x = np.arange(0, len(species_freq))\n",
    "plt.plot(x, species_freq)\n",
    "plt.ylim(0, 7000)\n",
    "plt.xlim(-5, 601)\n",
    "plt.xlabel(\"Species\")\n",
    "plt.ylabel(\"Number of occurances\")\n",
    "plt.title(\"[Frequency] ebutterfly\")\n",
    "plt.show()"
   ]
  },
  {
   "cell_type": "code",
   "execution_count": null,
   "id": "b22342b8",
   "metadata": {},
   "outputs": [],
   "source": [
    "import matplotlib.pyplot as plt\n",
    "import numpy as np\n",
    "\n",
    "print(np.mean(ebird_freq), np.max(ebird_freq))\n",
    "ebird_freq = np.sort(ebird_freq, axis=None)[::-1]\n",
    "print(ebird_freq.mean())\n",
    "x = np.arange(0, ebird_freq.shape[0])\n",
    "plt.plot(x, ebird_freq)\n",
    "plt.xlim(-5, 670)\n",
    "plt.ylim(0, 2050091)\n",
    "plt.xlabel(\"Species\")\n",
    "plt.ylabel(\"Number of occurances\")\n",
    "plt.title(\"[Frequency] ebird\")\n",
    "plt.show()"
   ]
  },
  {
   "cell_type": "markdown",
   "id": "d925ab5c",
   "metadata": {},
   "source": [
    "## Create final csv"
   ]
  },
  {
   "cell_type": "code",
   "execution_count": null,
   "id": "f277a2de",
   "metadata": {},
   "outputs": [],
   "source": [
    "# columns: hotspot_name, lon, lat, number_of_observations, number_of_unique_checklists, number_of_unique_species, env variables\n",
    "hotspot_ids = []\n",
    "lats, lons = [], []\n",
    "number_of_butterfly_obs = []\n",
    "number_of_unique_checklists = []\n",
    "number_of_different_species = []\n",
    "\n",
    "bio_env_column_names = ['bio_1', 'bio_2', 'bio_3', 'bio_4', 'bio_5',\n",
    "       'bio_6', 'bio_7', 'bio_8', 'bio_9', 'bio_10', 'bio_11', 'bio_12',\n",
    "       'bio_13', 'bio_14', 'bio_15', 'bio_16', 'bio_17', 'bio_18', 'bio_19']\n",
    "ped_env_column_names = ['bdticm', 'bldfie', 'cecsol', 'clyppt', 'orcdrc', 'phihox', 'sltppt', 'sndppt']\n",
    "location_info = ['county_code', 'state', 'state_code']\n",
    "\n",
    "for group_name, group_data in tqdm(grouped_butterfly_data):\n",
    "    hotspot_ids.append(group_name)\n",
    "    lats.append(group_data['ebird_lat'].iloc[0])\n",
    "    lons.append(group_data['ebird_lon'].iloc[0])\n",
    "    number_of_butterfly_obs.append(len(group_data['occurrenceID']))\n",
    "    number_of_unique_checklists.append(len(group_data['eventID'].unique()))\n",
    "    number_of_different_species.append(len(group_data['species'].unique()))\n",
    "\n",
    "final_data_frame = pd.DataFrame({'hotspot_id': hotspot_ids,\n",
    "                                 'lat': lats,\n",
    "                                 'lon': lons,\n",
    "                                 'ebutterfly_occurances': number_of_butterfly_obs,\n",
    "                                 'num_checklists': number_of_unique_checklists,\n",
    "                                 'num_species': number_of_different_species})\n",
    "    \n",
    "\n",
    "indices = satbird_USA_summer[satbird_USA_summer['hotspot_id'].isin(final_data_frame['hotspot_id'])].index\n",
    "\n",
    "bio_env_indices = [satbird_USA_summer.columns.get_loc(c) for c in bio_env_column_names]\n",
    "ped_env_indices = [satbird_USA_summer.columns.get_loc(c) for c in ped_env_column_names]\n",
    "location_info_indices = [satbird_USA_summer.columns.get_loc(c) for c in location_info]\n",
    "\n",
    "final_data_frame[bio_env_column_names] = satbird_USA_summer.iloc[indices, bio_env_indices].values\n",
    "final_data_frame[ped_env_column_names] = satbird_USA_summer.iloc[indices, ped_env_indices].values\n",
    "final_data_frame[location_info] = satbird_USA_summer.iloc[indices, location_info_indices].values\n",
    "\n",
    "\n",
    "print(final_data_frame)\n",
    "\n",
    "final_data_frame.to_csv(os.path.join(root_dir, dataset_tag, 'butterfly_hotspots.csv') , index=False)"
   ]
  },
  {
   "cell_type": "markdown",
   "id": "d6e764c7",
   "metadata": {},
   "source": [
    "# 4. split data using DBSCAN (script: make_splits_by_distance.py)"
   ]
  },
  {
   "cell_type": "code",
   "execution_count": null,
   "id": "9b246e8b",
   "metadata": {},
   "outputs": [],
   "source": [
    "butterfly_data_with_split = pd.read_csv(os.path.join(root_dir, dataset_tag, \"butterfly_hotspots_with_splits.csv\"))"
   ]
  },
  {
   "cell_type": "code",
   "execution_count": null,
   "id": "f4aafd6a",
   "metadata": {},
   "outputs": [],
   "source": [
    "butterfly_data_with_split"
   ]
  },
  {
   "cell_type": "code",
   "execution_count": null,
   "id": "dd68f94e",
   "metadata": {},
   "outputs": [],
   "source": [
    "grouped_butterfly_data = butterfly_data_with_split.groupby(['split'], as_index=False)\n",
    "\n",
    "for group_name, group_data in tqdm(grouped_butterfly_data):\n",
    "    print(group_name)\n",
    "    print(group_data[\"ebutterfly_occurances\"].max())\n",
    "    group_data.to_csv(os.path.join(root_dir, dataset_tag, \"butterfly_hotspots_\" + str(group_name) + \".csv\"))"
   ]
  },
  {
   "cell_type": "markdown",
   "id": "e963b841",
   "metadata": {},
   "source": [
    "# 5. Visualize map after splitting"
   ]
  },
  {
   "cell_type": "code",
   "execution_count": null,
   "id": "6630610f",
   "metadata": {},
   "outputs": [],
   "source": [
    "import os\n",
    "import sys\n",
    "from pathlib import Path\n",
    "\n",
    "sys.path.append(str(Path().resolve().parent))\n",
    "sys.path.append(str(Path().resolve().parent.parent))\n",
    "\n",
    "import numpy as np\n",
    "import pandas as pd\n",
    "import json\n",
    "\n",
    "import geopandas as gpd\n",
    "import matplotlib.pyplot as plt\n",
    "\n",
    "from shapely.geometry import Point\n",
    "\n",
    "path = os.path.join(root_dir, dataset_tag, \"butterfly_hotspots_with_splits.csv\")\n",
    "\n",
    "df = pd.read_csv(path)\n",
    "df = df.drop_duplicates(\"hotspot_id\")\n",
    "\n",
    "geoDatav = gpd.read_file('https://raw.githubusercontent.com/holtzy/The-Python-Graph-Gallery/master/static/data/US-counties.geojson')\n",
    "\n",
    "geometry = [Point(xy) for xy in zip(df['lon'], df['lat'])]\n",
    "gdf = gpd.GeoDataFrame(df, geometry=geometry)   \n",
    "\n",
    "ig, ax = plt.subplots(figsize =(15,10))\n",
    "#train_gdf.drop_duplicates([\"geometry\"]).boundary.plot(ax = ax, alpha = 0.4, edgecolor = \"gray\")\n",
    "geoDatav[~geoDatav[\"STATE\"].isin([\"02\", \"15\"])].boundary.plot(ax=ax, alpha = 0.1, edgecolor = \"gray\" )\n",
    "gdf[gdf[\"split\"]==\"train\"].plot(ax=ax,marker='o', color='mediumslateblue', markersize=1, label = \"train\")\n",
    "gdf[gdf[\"split\"]==\"val\"].plot(ax=ax, marker='o', color='lightseagreen', markersize=1, label = \"val\")\n",
    "gdf[gdf[\"split\"]==\"test\"].plot(ax=ax, marker='o', color='lightsalmon', markersize=1, label = \"test\")\n",
    "\n",
    "plt.legend(fontsize=16, markerscale=5,loc='lower right',  bbox_to_anchor=(0.92, 0.25))\n",
    "plt.title(\"butterfly Hotspots\")\n",
    "plt.show()"
   ]
  },
  {
   "cell_type": "markdown",
   "id": "f24e21e3",
   "metadata": {},
   "source": [
    "Final files saved:\n",
    "[('valid', 1002), ('test', 1005), ('train', 4677)]\n",
    "- butterfly_hotspots.csv\n",
    "- butterfly_hotspots_train.csv\n",
    "- butterfly_hotspots_valid.csv\n",
    "- butterfly_hotspots_test.csv\n",
    "- species_list.csv\n",
    "- targets/"
   ]
  },
  {
   "cell_type": "markdown",
   "id": "54ac3acd",
   "metadata": {},
   "source": [
    "#### Change the data splits to match ebird so we can co-train. This results in new splitting of [('valid', 1076), ('test', 958), ('train', 4650)] instead\n"
   ]
  },
  {
   "cell_type": "code",
   "execution_count": null,
   "id": "a146298f",
   "metadata": {},
   "outputs": [],
   "source": [
    "def resplit_ebutterfly_with_ebird(ebutterfly_df, ebird_df):\n",
    "    out = ebutterfly_df.merge(ebird_df[['hotspot_id', 'split']], on='hotspot_id', how='right')\n",
    "    ebutterfly_df = out[out['hotspot_id'].isin(ebutterfly_df['hotspot_id'])]\n",
    "    print(ebutterfly_df['split'].value_counts())\n",
    "    \n",
    "    ebutterfly_df.to_csv(os.path.join(root_dir, dataset_tag, 'butterfly_hotspots_ebird_splits.csv') , index=False)\n",
    "\n",
    "    grouped_butterfly_data = ebutterfly_df.groupby(['split'], as_index=False)\n",
    "\n",
    "    for group_name, group_data in tqdm(grouped_butterfly_data):\n",
    "        group_data.to_csv(os.path.join(root_dir, dataset_tag, \"butterfly_hotspots_ebird_\" + str(group_name) + \".csv\"))\n",
    "    \n",
    "    \n",
    "final_ebutterfly_df = pd.read_csv(os.path.join(root_dir, dataset_tag, 'butterfly_hotspots.csv'))\n",
    "final_ebird_df = pd.read_csv(os.path.join(root_dir, dataset_tag, 'all_summer_hotspots_final.csv'))\n",
    "resplit_ebutterfly_with_ebird(final_ebutterfly_df, final_ebird_df)"
   ]
  }
 ],
 "metadata": {
  "kernelspec": {
   "display_name": "Python 3 (ipykernel)",
   "language": "python",
   "name": "python3"
  },
  "language_info": {
   "codemirror_mode": {
    "name": "ipython",
    "version": 3
   },
   "file_extension": ".py",
   "mimetype": "text/x-python",
   "name": "python",
   "nbconvert_exporter": "python",
   "pygments_lexer": "ipython3",
   "version": "3.7.11"
  }
 },
 "nbformat": 4,
 "nbformat_minor": 5
}
