{
 "cells": [
  {
   "cell_type": "code",
   "execution_count": 2,
   "id": "2ad81cd4",
   "metadata": {},
   "outputs": [],
   "source": [
    "import pandas as pd \n",
    "import geopandas as gpd\n",
    "import os\n",
    "import numpy as np\n",
    "import glob\n",
    "from pathlib import Path    \n",
    "from tqdm import tqdm\n",
    "import shutil\n",
    "import json\n",
    "\n",
    "from sklearn.cluster import DBSCAN\n",
    "from sklearn.metrics.pairwise import haversine_distances\n",
    "from geopy.distance import great_circle\n",
    "from shapely.geometry import MultiPoint\n",
    "from shapely.geometry import Polygon, Point\n",
    "from math import cos, radians"
   ]
  },
  {
   "cell_type": "code",
   "execution_count": 1,
   "id": "a4b676c1",
   "metadata": {},
   "outputs": [],
   "source": [
    "root_dir = \"/home/hagerradi/projects/Ecosystem_embeddings/ebutterfly/Darwin/0177350-230224095556074\"\n",
    "dataset_tag = \"ebutterfly_data_v4\""
   ]
  },
  {
   "cell_type": "code",
   "execution_count": null,
   "id": "f57c179a",
   "metadata": {},
   "outputs": [],
   "source": [
    "env_data_path = os.path.join(root_dir, dataset_tag, \"environmental_data\")"
   ]
  },
  {
   "cell_type": "code",
   "execution_count": null,
   "id": "d5cb9fca",
   "metadata": {},
   "outputs": [],
   "source": [
    "for file_name in glob.glob(env_data_path + '/*.npy'):\n",
    "    shutil.copy(file_name, env_data_path + '/B' + Path(file_name).name)\n",
    "\n",
    "for file_name in glob.glob(env_data_path + '/L*.npy'):\n",
    "    shutil.move(file_name, os.path.join(root_dir, dataset_tag, \"backup\", \"environmental_data\") )"
   ]
  },
  {
   "cell_type": "code",
   "execution_count": null,
   "id": "30f1bef7",
   "metadata": {},
   "outputs": [],
   "source": [
    "img_data_path = os.path.join(root_dir, dataset_tag, \"images\")\n",
    "for file_name in glob.glob(img_data_path + '/*.tif'):\n",
    "    shutil.copy(file_name, img_data_path + '/B' + Path(file_name).name)\n",
    "\n",
    "for file_name in glob.glob(img_data_path + '/L*.tif'):\n",
    "    shutil.move(file_name, os.path.join(root_dir, dataset_tag, \"backup\", \"images\") )"
   ]
  },
  {
   "cell_type": "code",
   "execution_count": null,
   "id": "7127da31",
   "metadata": {},
   "outputs": [],
   "source": [
    "targets_path = os.path.join(root_dir, dataset_tag, \"butterfly_targets\")\n",
    "for file_name in glob.glob(targets_path + '/*.json'):\n",
    "    shutil.copy(file_name, targets_path + '/B' + Path(file_name).name)\n",
    "\n",
    "for file_name in glob.glob(targets_path + '/L*.json'):\n",
    "    shutil.move(file_name, os.path.join(root_dir, dataset_tag, \"backup\", \"butterfly_targets\") )"
   ]
  },
  {
   "cell_type": "code",
   "execution_count": null,
   "id": "6193eb4b",
   "metadata": {},
   "outputs": [],
   "source": [
    "img_path = os.path.join(root_dir, dataset_tag, \"images_visual\")\n",
    "for file_name in glob.glob(img_path + '/*.tif'):\n",
    "    shutil.copy(file_name, img_path + '/B' + Path(file_name).name)\n",
    "\n",
    "for file_name in glob.glob(img_path + '/L*.tif'):\n",
    "    shutil.move(file_name, os.path.join(root_dir, dataset_tag, \"backup\", \"images_visual\") )"
   ]
  },
  {
   "cell_type": "code",
   "execution_count": null,
   "id": "3be963a9",
   "metadata": {},
   "outputs": [],
   "source": [
    "for group_name in [\"train\", \"test\", \"valid\"]:\n",
    "    group_data = pd.read_csv(os.path.join(root_dir, dataset_tag, \"butterfly_hotspots_\" + str(group_name) + \".csv\"))\n",
    "    hotspots = group_data['hotspot_id'].values.tolist()\n",
    "    print(group_data)\n",
    "    new_hotspots = []\n",
    "    for hs in hotspots:\n",
    "        new_hotspots.append(\"B\"+hs)\n",
    "    \n",
    "    group_data['hotspot_id'] = new_hotspots\n",
    "    group_data.to_csv(os.path.join(root_dir, dataset_tag, \"butterfly_hotspots_\" + str(group_name) + \".csv\"))\n"
   ]
  },
  {
   "cell_type": "code",
   "execution_count": null,
   "id": "1d172ce3",
   "metadata": {},
   "outputs": [],
   "source": [
    "for group_name in [\"train\", \"test\", \"valid\"]:\n",
    "    group_data = pd.read_csv(os.path.join(root_dir, dataset_tag, \"butterfly_hotspots_\" + str(group_name) + \".csv\"))\n",
    "    print(group_data)"
   ]
  },
  {
   "cell_type": "code",
   "execution_count": null,
   "id": "947159ae",
   "metadata": {},
   "outputs": [],
   "source": [
    "import pandas as pd \n",
    "import os\n",
    "import numpy as np\n",
    "import glob\n",
    "from pathlib import Path    \n",
    "import shutil\n",
    "\n",
    "env_data_path = \"environmental_data\"\n",
    "for file_name in glob.glob(env_data_path + '/*.npy'):\n",
    "    shutil.move(file_name, env_data_path + '/B' + Path(file_name).name)\n",
    "    \n",
    "\n",
    "img_data_path = \"images\"\n",
    "for file_name in glob.glob(img_data_path + '/*.tif'):\n",
    "    shutil.move(file_name, img_data_path + '/B' + Path(file_name).name)\n",
    "\n",
    "targets_data_path = \"butterfly_targets\"\n",
    "for file_name in glob.glob(targets_data_path + '/*.json'):\n",
    "    shutil.move(file_name, targets_data_path + '/B' + Path(file_name).name)\n"
   ]
  },
  {
   "cell_type": "code",
   "execution_count": null,
   "outputs": [],
   "source": [
    "import glob\n",
    "import json\n",
    "import matplotlib.pyplot as plt\n",
    "from tqdm import tqdm\n",
    "\n",
    "# targets_path = os.path.join(root_dir, dataset_tag, \"butterfly_targets\")\n",
    "targets_path = \"corrected_targets\"\n",
    "all_targets = []\n",
    "for file_name in tqdm(glob.glob(targets_path + '/*.json')):\n",
    "    targets = json.load(open(file_name))['probs']\n",
    "    targets = [i for i in targets if i != 0]\n",
    "    all_targets += targets\n",
    "\n",
    "print(len(all_targets))\n",
    "\n",
    "# all_targets = [i for i in all_targets if i != 0]\n",
    "# print(len([i for i in all_targets if i <= 1]))\n",
    "\n",
    "ret = plt.hist(all_targets, bins=5)\n",
    "print(ret)"
   ],
   "metadata": {
    "collapsed": false
   },
   "id": "496c811ec296db83"
  },
  {
   "cell_type": "markdown",
   "source": [
    "#### saving ebird targets with only most frequent top 28%"
   ],
   "metadata": {
    "collapsed": false
   },
   "id": "dd4c9b497edc1195"
  },
  {
   "cell_type": "code",
   "execution_count": null,
   "outputs": [],
   "source": [
    "import glob\n",
    "import json\n",
    "import matplotlib.pyplot as plt\n",
    "from tqdm import tqdm\n",
    "import numpy as np\n",
    "import os\n",
    "\n",
    "# N = int(0.25 * len(data))\n",
    "\n",
    "# # Get the indices of the top N values\n",
    "# top_indices = np.argsort(data)[-N:]\n",
    "\n",
    "# # Sort the top_indices in ascending order\n",
    "# sorted_top_indices = np.sort(top_indices)\n",
    "\n",
    "# targets_path = os.path.join(root_dir, dataset_tag, \"butterfly_targets\")\n",
    "targets_path = \"corrected_targets\"\n",
    "dst_path = \"corrected_targets_v2\"\n",
    "indices_to_save = np.load('stats/top_28percent_species_indices.npy')\n",
    "all_targets = []\n",
    "#print(indices_to_save)\n",
    "for file_name in tqdm(glob.glob(targets_path + '/*.json')):\n",
    "    targets = json.load(open(file_name))\n",
    "    #print(targets[\"probs\"])\n",
    "    new_probs = [targets[\"probs\"][i] for i in indices_to_save] \n",
    "    targets['probs'] = new_probs\n",
    "    #print(targets, len(new_probs))\n",
    "    with open(os.path.join(dst_path, os.path.basename(file_name)), 'w') as f:\n",
    "        json.dump(targets, f)"
   ],
   "metadata": {
    "collapsed": false
   },
   "id": "cb23bd1b825711a"
  },
  {
   "cell_type": "markdown",
   "source": [
    "## Mapping family/order"
   ],
   "metadata": {
    "collapsed": false
   },
   "id": "b3cc32c9ec107a51"
  },
  {
   "cell_type": "code",
   "execution_count": null,
   "outputs": [],
   "source": [
    "root_dir = \"/home/hagerradi/projects/Ecosystem_embeddings/ebutterfly/ebird_species\"\n",
    "species_df = pd.read_csv(os.path.join(root_dir, \"NEW_Clements-Checklist-v2022-October-2022.csv\"))\n",
    "\n",
    "species_list = open(os.path.join(root_dir, \"species_list_USA_birds.txt\")).read().split(\"\\n\")[0:-1]\n",
    "print(len(species_list))\n",
    "print(species_df.columns)\n",
    "\n",
    "species_family = []\n",
    "species_order = []\n",
    "\n",
    "for sp in species_list:\n",
    "    index_position = species_df[species_df['scientific name'] == sp].index[0]\n",
    "    species_family.append(species_df['family'][index_position])\n",
    "    species_order.append(species_df['order'][index_position])\n",
    "\n",
    "\n",
    "# f = open(os.path.join(root_dir, \"species_list_USA_birds_family.txt\"),'w')\n",
    "# f.write('\\n'.join(str(i) for i in species_family))\n",
    "# f.close()\n",
    "\n",
    "# f = open(os.path.join(root_dir, \"species_list_USA_birds_order.txt\"),'w')\n",
    "# f.write('\\n'.join(str(i) for i in species_order))\n",
    "# f.close()\n",
    "\n",
    "def save_mapping(species_l, file_name):\n",
    "    print(len(np.unique(species_l)))\n",
    "    unique_values , indices = np.unique(species_l, return_index=True)\n",
    "    species_l = np.array(species_l)\n",
    "    all_indices = {value: np.where(species_l == value)[0].tolist() for i, value in enumerate(unique_values)}\n",
    "    \n",
    "    all_v = []\n",
    "    for k, v in all_indices.items():\n",
    "        all_v += v\n",
    "\n",
    "    assert len(all_v) == len(species_list)\n",
    "\n",
    "#     with open(os.path.join(root_dir, file_name), 'w') as f:\n",
    "#         json.dump(all_indices, f)\n",
    "\n",
    "    \n",
    "    with open(os.path.join(root_dir, file_name), 'r') as f:\n",
    "        dict_loaded = json.load(f)\n",
    "    \n",
    "    print(len(dict_loaded.keys()))\n",
    "    print(list(dict_loaded.values())[0])\n",
    "\n",
    "save_mapping(species_l=species_order, file_name='bird_species_order_mapping.json')\n",
    "save_mapping(species_l=species_family, file_name='bird_species_family_mapping.json')"
   ],
   "metadata": {
    "collapsed": false
   },
   "id": "3c6926042b98a186"
  },
  {
   "cell_type": "code",
   "execution_count": null,
   "outputs": [],
   "source": [
    "import json\n",
    "from tqdm import tqdm\n",
    "import os\n",
    "import glob\n",
    "import numpy as np\n",
    "\n",
    "def load_mapping(file_name):\n",
    "    src = 'targets'\n",
    "    dst = 'cls_targets_2'\n",
    "    \n",
    "    with open(file_name, 'r') as f:\n",
    "        dict_loaded = json.load(f)\n",
    "    \n",
    "    pattern = os.path.join(src, '*.json')\n",
    "    hotspots = [os.path.splitext(os.path.basename(file))[0] for file in glob.glob(pattern) if os.path.isfile(file)]\n",
    "    \n",
    "    for hotspot_id in tqdm(hotspots):\n",
    "        final_target = np.zeros(len(dict_loaded.keys()))\n",
    "        target_file_path = os.path.join(src, hotspot_id + '.json')\n",
    "\n",
    "        with open(target_file_path, \"r\") as f:\n",
    "            data = json.load(f)\n",
    "        data = data[\"probs\"]\n",
    "\n",
    "        non_zero_indices = np.nonzero(data)[0].tolist()\n",
    "        new_target = {}\n",
    "\n",
    "        species = np.zeros(len(dict_loaded.keys()))\n",
    "        for i, key in enumerate(dict_loaded.keys()):\n",
    "            indices = dict_loaded[key]\n",
    "            #print(indices, non_zero_indices)\n",
    "            count = [1 for x in indices if x in non_zero_indices]\n",
    "            species[i] += sum(count)\n",
    "\n",
    "        #print(species)\n",
    "        new_target['probs'] = species.tolist()\n",
    "\n",
    "        with open(os.path.join(dst, hotspot_id + '.json'), 'w') as f:\n",
    "            json.dump(new_target, f)\n",
    "\n",
    "\n",
    "load_mapping(file_name='/network/projects/ecosystem-embeddings/SatButterfly_v1/bird_species_family_mapping.json')\n"
   ],
   "metadata": {
    "collapsed": false
   },
   "id": "2029be992a629e4d"
  },
  {
   "cell_type": "code",
   "execution_count": null,
   "outputs": [],
   "source": [
    "import json\n",
    "from tqdm import tqdm\n",
    "import os\n",
    "import glob\n",
    "import numpy as np\n",
    "\n",
    "def analyze_mapping():\n",
    "    src = 'cls_targets_2'\n",
    "    \n",
    "    pattern = os.path.join(src, '*.json')\n",
    "    hotspots = [os.path.splitext(os.path.basename(file))[0] for file in glob.glob(pattern) if os.path.isfile(file)]\n",
    "    \n",
    "    freq = np.zeros(80)\n",
    "    \n",
    "    for hotspot_id in tqdm(hotspots):\n",
    "        target_file_path = os.path.join(src, hotspot_id + '.json')\n",
    "        \n",
    "        with open(target_file_path, \"r\") as f:\n",
    "            data = json.load(f)\n",
    "        data = data[\"probs\"]\n",
    "        \n",
    "        non_zero_indices = np.nonzero(data)[0].tolist()\n",
    "        \n",
    "        for x in non_zero_indices:\n",
    "            freq[x] += 1\n",
    "        \n",
    "        print(freq)\n",
    "        \n",
    "    np.save(\"family_freq.npy\", freq)\n",
    "\n",
    "analyze_mapping()"
   ],
   "metadata": {
    "collapsed": false
   },
   "id": "e41543bd9db0cf1"
  },
  {
   "cell_type": "markdown",
   "source": [
    "## Analysis on preds"
   ],
   "metadata": {
    "collapsed": false
   },
   "id": "f7cb9eba3c1a6f3"
  },
  {
   "cell_type": "code",
   "execution_count": null,
   "outputs": [],
   "source": [
    "from tqdm import tqdm\n",
    "import glob, os\n",
    "import json\n",
    "import numpy as np\n",
    "\n",
    "targets_path = \"/network/projects/ecosystem-embeddings/SatBird_data_v2/USA_summer/corrected_targets\"\n",
    "preds_path = \"/home/mila/h/hager.radi/scratch/ecosystem-embedding/baseline_joint_rtran_resnet18_RGBNIR_ENV_8/birds_preds\"\n",
    "\n",
    "for file_name in tqdm(glob.glob(os.path.join(preds_path, '*.npy'))):\n",
    "    hotspot_id = os.path.basename(file_name).split('.')[0]\n",
    "    pred = np.load(os.path.join(preds_path, hotspot_id + '.npy'))[0:670]\n",
    "    y = json.load(open(os.path.join(targets_path, hotspot_id + '.json')))\n",
    "    y = y['probs']\n",
    "    for y_, pred_ in zip(y, pred):\n",
    "        if y_ > 0:\n",
    "            print(y_, pred_)"
   ],
   "metadata": {
    "collapsed": false
   },
   "id": "971c4be0eadac0b8"
  },
  {
   "cell_type": "markdown",
   "source": [
    "## Label embeddings"
   ],
   "metadata": {
    "collapsed": false
   },
   "id": "d4c6a9e567571736"
  },
  {
   "cell_type": "code",
   "execution_count": null,
   "outputs": [],
   "source": [
    "from sklearn.manifold import TSNE\n",
    "import numpy as np\n",
    "import pandas as pd\n",
    "import json\n",
    "# Initialize t-SNE\n",
    "\n",
    "embeddings_random = np.load('/home/hagerradi/projects/Ecosystem_embeddings/ecosystem-embedding/rtran_label_embeddings_random.npy')\n",
    "embeddings_trained = np.load('/home/hagerradi/projects/Ecosystem_embeddings/ecosystem-embedding/rtran_label_embeddings_trained_11.npy')\n",
    "\n",
    "label_filename = \"/home/hagerradi/projects/Ecosystem_embeddings/ebutterfly/ebird_species/species_list_USA_birds.txt\"\n",
    "labels = open(label_filename).read().split(\"\\n\")[0:-1]\n",
    "\n",
    "labels_2_filename = \"/home/hagerradi/projects/Ecosystem_embeddings/ebutterfly/Darwin/0177350-230224095556074/ebutterfly_data_v5/species_list_updated.csv\"\n",
    "species_list = pd.read_csv(labels_2_filename)\n",
    "species_list = species_list[species_list[\"frequency\"] >= 100]\n",
    "# print(len(species_list))\n",
    "print(embeddings_random.shape)\n",
    "\n",
    "with open(\"/home/hagerradi/projects/Ecosystem_embeddings/ebutterfly/ebird_species/bird_species_order_mapping.json\", 'r') as f:\n",
    "    per_species_mask = json.load(f)\n",
    "\n",
    "mask_max_size = len(per_species_mask.keys())\n",
    "print(mask_max_size)"
   ],
   "metadata": {
    "collapsed": false
   },
   "id": "392fded071648e77"
  },
  {
   "cell_type": "code",
   "execution_count": null,
   "outputs": [],
   "source": [
    "import matplotlib.pyplot as plt\n",
    "\n",
    "matplotlib_colors = [\n",
    "    'b', 'g', 'orange', 'c', 'm', 'y', 'k', 'w',\n",
    "    'tab:blue', 'tab:orange', 'tab:green', 'tab:red',\n",
    "    'tab:purple', 'tab:brown', 'tab:pink', 'tab:gray',\n",
    "    'tab:olive', 'tab:cyan', 'xkcd:blue', 'xkcd:orange',\n",
    "    'xkcd:green', 'xkcd:red', 'xkcd:purple'\n",
    "]\n",
    "\n",
    "\n",
    "def plot_embeddings(embeddings):\n",
    "    tsne = TSNE(n_components=2, perplexity=30, n_iter=300)\n",
    "    embedded_labels = tsne.fit_transform(embeddings)\n",
    "\n",
    "    plt.figure(figsize=(10, 8))\n",
    "    i = 0\n",
    "    for k, v in per_species_mask.items():\n",
    "        plt.scatter(embedded_labels[v, 0], embedded_labels[v,1], s=12, color=matplotlib_colors[i], label=k)\n",
    "        i += 1\n",
    "        \n",
    "#     plt.scatter(embedded_labels[:670, 0], embedded_labels[:670, 1], s=10, color='red')\n",
    "    plt.scatter(embedded_labels[670:, 0], embedded_labels[670:, 1], s=12, color='red', marker='D')\n",
    "\n",
    "    plt.title(\"t-SNE Visualization of Label Embeddings\")\n",
    "    plt.xlim(-30, 30)\n",
    "    plt.ylim(-30, 30)\n",
    "    plt.legend()\n",
    "    plt.show()\n",
    "\n",
    "what_to_mask = int(np.random.randint(0, mask_max_size, 1)[0])\n",
    "mask_indices = np.array(list(per_species_mask.values())[what_to_mask])\n",
    "plot_embeddings(embeddings_random)\n",
    "plot_embeddings(embeddings_trained)"
   ],
   "metadata": {
    "collapsed": false
   },
   "id": "f0a3fbec7c05d780"
  },
  {
   "cell_type": "code",
   "execution_count": null,
   "outputs": [],
   "source": [
    "from sklearn.manifold import TSNE\n",
    "import matplotlib.pyplot as plt\n",
    "from mpl_toolkits.mplot3d import Axes3D\n",
    "import numpy as np\n",
    "\n",
    "import plotly.express as px\n",
    "import plotly.graph_objects as go\n",
    "import numpy as np\n",
    "from sklearn.manifold import TSNE\n",
    "\n",
    "\n",
    "colormap = plt.cm.get_cmap('tab20c', len(per_species_mask))\n",
    "\n",
    "colors = [colormap(i) for i in range(len(per_species_mask))]\n",
    "\n",
    "def plot_embeddings(embeddings):\n",
    "    tsne = TSNE(n_components=3, perplexity=30, n_iter=300)\n",
    "    embedded_labels = tsne.fit_transform(embeddings)\n",
    "\n",
    "    fig = go.Figure()\n",
    "\n",
    "    matplotlib_colors = px.colors.qualitative.Set1\n",
    "\n",
    "    i = 0\n",
    "    for k, v in per_species_mask.items():\n",
    "        fig.add_trace(go.Scatter3d(\n",
    "            x=embedded_labels[v, 0], \n",
    "            y=embedded_labels[v, 1], \n",
    "            z=embedded_labels[v, 2],\n",
    "            mode='markers',\n",
    "            marker=dict(size=6, color=colors[i]),\n",
    "            name=k\n",
    "        ))\n",
    "        i += 1\n",
    "\n",
    "    fig.add_trace(go.Scatter3d(\n",
    "        x=embedded_labels[670:, 0], \n",
    "        y=embedded_labels[670:, 1], \n",
    "        z=embedded_labels[670:, 2],\n",
    "        mode='markers',\n",
    "        marker=dict(size=6, color='red', symbol='diamond'),\n",
    "        name='Special Points'\n",
    "    ))\n",
    "\n",
    "    fig.update_layout(title_text=\"3D t-SNE Visualization of Label Embeddings\",\n",
    "                        xaxis=dict(range=[-30, 30]),  # X-axis range\n",
    "                        yaxis=dict(range=[-30, 30]),  # Y-axis range\n",
    "                        showlegend=True)\n",
    "    fig.show()\n",
    "\n",
    "\n",
    "what_to_mask = int(np.random.randint(0, mask_max_size, 1)[0])\n",
    "mask_indices = np.array(list(per_species_mask.values())[what_to_mask])\n",
    "plot_embeddings(embeddings_random)\n",
    "plot_embeddings(embeddings_trained)"
   ],
   "metadata": {
    "collapsed": false
   },
   "id": "47220cf44d6f7b4d"
  },
  {
   "cell_type": "code",
   "execution_count": null,
   "outputs": [],
   "source": [
    "from tqdm import tqdm\n",
    "import glob\n",
    "import json\n",
    "import os\n",
    "import numpy as np\n",
    "\n",
    "#targets_path = \"SatButterfly_v2/targets_v1.2\"\n",
    "targets_path = \"/network/projects/ecosystem-embeddings/SatButterfly_v2/USA/butterfly_targets_v1.2\"\n",
    "for file_name in tqdm(glob.glob(targets_path + '/*.json')):\n",
    "    y = json.load(open(file_name))['probs']\n",
    "    y = np.array(y)\n",
    "    nans = np.isnan(y)\n",
    "    if nans.any():\n",
    "        print(file_name, y)"
   ],
   "metadata": {
    "collapsed": false
   },
   "id": "6c5292298abbdee6"
  },
  {
   "cell_type": "markdown",
   "source": [
    "## Some analysis on targets"
   ],
   "metadata": {
    "collapsed": false
   },
   "id": "302b55255a20b223"
  },
  {
   "cell_type": "code",
   "execution_count": null,
   "outputs": [],
   "source": [
    "import numpy as np\n",
    "import json\n",
    "import glob\n",
    "\n",
    "non_zero_target = []\n",
    "\n",
    "for file in glob.glob(\"corrected_targets/*\"):\n",
    "    arr = json.load(open(\"corrected_targets/\" + file))\n",
    "    probs = arr[\"probs\"]\n",
    "    non_zero_target.append(np.count_nonzero(checklist_))\n",
    "\n",
    "np.save(\"ebird_non_zeros_targets.npy\", np.array(non_zero_targets))\n",
    "# percentage of non-zero encounter rates vs. zero encounter rates\n",
    "100 * np.sum(non_zero_target) / (len(non_zero_target) * 601)\n",
    "# in all Satbird-USA summer:\n",
    "ebird_freq = np.load(os.path.join(root_dir, dataset_tag, 'satbird_species_frequencies_updated.npy'))\n",
    "print(ebird_freq.min(), ebird_freq.max())\n",
    "len(ebird_freq[ebird_freq > 20])\n",
    "import matplotlib.pyplot as plt\n",
    "import numpy as np\n",
    "\n",
    "plt.hist(non_zero_target)\n",
    "plt.xlim(0, 100)\n",
    "plt.xlabel(\"non-zero encounter rates (k) per checklist\")\n",
    "plt.ylabel(\"Count\")\n",
    "plt.title(\"ebutterfly\")\n",
    "plt.show()\n",
    "import matplotlib.pyplot as plt\n",
    "import numpy as np\n",
    "\n",
    "non_zero_target = np.load(os.path.join(root_dir, dataset_tag, 'ebird_non_zeros_targets.npy'))\n",
    "plt.hist(non_zero_target)\n",
    "# plt.xlim(0, 100)\n",
    "plt.xlabel(\"non-zero encounter rates (k) per checklist\")\n",
    "plt.ylabel(\"Count\")\n",
    "plt.title(\"ebird\")\n",
    "plt.show()\n",
    "import matplotlib.pyplot as plt\n",
    "import numpy as np\n",
    "\n",
    "print(np.mean(species_freq), np.std(species_freq), np.max(species_freq))\n",
    "x = np.arange(0, len(species_freq))\n",
    "plt.plot(x, species_freq)\n",
    "plt.ylim(0, 7000)\n",
    "plt.xlim(-5, 601)\n",
    "plt.xlabel(\"Species\")\n",
    "plt.ylabel(\"Number of occurances\")\n",
    "plt.title(\"[Frequency] ebutterfly\")\n",
    "plt.show()\n",
    "import matplotlib.pyplot as plt\n",
    "import numpy as np\n",
    "\n",
    "print(np.mean(ebird_freq), np.max(ebird_freq))\n",
    "ebird_freq = np.sort(ebird_freq, axis=None)[::-1]\n",
    "print(ebird_freq.mean())\n",
    "x = np.arange(0, ebird_freq.shape[0])\n",
    "plt.plot(x, ebird_freq)\n",
    "plt.xlim(-5, 670)\n",
    "plt.ylim(0, 2050091)\n",
    "plt.xlabel(\"Species\")\n",
    "plt.ylabel(\"Number of occurances\")\n",
    "plt.title(\"[Frequency] ebird\")\n",
    "plt.show()"
   ],
   "metadata": {
    "collapsed": false
   },
   "id": "728efbcd3f1bf5b7"
  }
 ],
 "metadata": {
  "kernelspec": {
   "display_name": "Python 3 (ipykernel)",
   "language": "python",
   "name": "python3"
  },
  "language_info": {
   "codemirror_mode": {
    "name": "ipython",
    "version": 3
   },
   "file_extension": ".py",
   "mimetype": "text/x-python",
   "name": "python",
   "nbconvert_exporter": "python",
   "pygments_lexer": "ipython3",
   "version": "3.7.11"
  }
 },
 "nbformat": 4,
 "nbformat_minor": 5
}
