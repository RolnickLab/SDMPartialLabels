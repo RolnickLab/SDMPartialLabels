{
 "cells": [
  {
   "cell_type": "code",
   "execution_count": null,
   "metadata": {},
   "outputs": [],
   "source": [
    "import pandas as pd\n",
    "import os\n",
    "import json"
   ]
  },
  {
   "cell_type": "code",
   "execution_count": null,
   "metadata": {},
   "outputs": [],
   "source": [
    "colocations = pd.read_csv(\"/network/projects/ecosystem-embeddings/SatBirdxsPlots/colocations_satbird_splot.csv\")"
   ]
  },
  {
   "cell_type": "code",
   "execution_count": null,
   "metadata": {},
   "outputs": [],
   "source": [
    "satbird = pd.read_csv(\"/network/projects/ecosystem-embeddings/SatBird_data_v2/USA_summer/all_summer_hotspots_final.csv\")"
   ]
  },
  {
   "cell_type": "code",
   "execution_count": null,
   "metadata": {},
   "outputs": [],
   "source": [
    "satbird = satbird.drop(columns=[\"Unnamed: 0.2\", \"Unnamed: 0.1\", \"Unnamed: 0\"])"
   ]
  },
  {
   "cell_type": "code",
   "execution_count": null,
   "metadata": {},
   "outputs": [],
   "source": [
    "satbird[\"bird\"] = 1"
   ]
  },
  {
   "cell_type": "code",
   "execution_count": null,
   "metadata": {},
   "outputs": [],
   "source": [
    "coloc = colocations[[\"hotspot_id\", \"sPlot_plot\"]]"
   ]
  },
  {
   "cell_type": "code",
   "execution_count": null,
   "metadata": {},
   "outputs": [],
   "source": [
    "coloc[\"plant\"] = 1"
   ]
  },
  {
   "cell_type": "code",
   "execution_count": null,
   "metadata": {},
   "outputs": [],
   "source": [
    "satbird = satbird.merge(coloc, how = \"outer\", left_on = \"hotspot_id\", right_on=\"hotspot_id\")"
   ]
  },
  {
   "cell_type": "code",
   "execution_count": null,
   "metadata": {},
   "outputs": [],
   "source": [
    "satbird[\"plant\"] = satbird[\"plant\"].fillna(0).astype(int)"
   ]
  },
  {
   "cell_type": "code",
   "execution_count": null,
   "metadata": {},
   "outputs": [],
   "source": [
    "splots = pd.read_csv(\"/network/projects/ecosystem-embeddings/sPlotOpen/location_data.csv\")"
   ]
  },
  {
   "cell_type": "markdown",
   "metadata": {},
   "source": [
    "# GET DATA IN THE US"
   ]
  },
  {
   "cell_type": "code",
   "execution_count": null,
   "metadata": {},
   "outputs": [],
   "source": [
    "from shapely.geometry import Point\n",
    "import geopandas as gpd\n",
    "import numpy as np"
   ]
  },
  {
   "cell_type": "code",
   "execution_count": null,
   "metadata": {},
   "outputs": [],
   "source": [
    "# Load the continental U.S. boundary shapefile\n",
    "# You can get this shapefile from Natural Earth or similar resources\n",
    "gdf = gpd.read_file(\"/network/projects/ecosystem-embeddings/US_boundaries/cb_2018_us_nation_5m.shp\")\n"
   ]
  },
  {
   "cell_type": "code",
   "execution_count": null,
   "metadata": {},
   "outputs": [],
   "source": [
    "multi_poly = gdf[\"geometry\"][0]"
   ]
  },
  {
   "cell_type": "code",
   "execution_count": null,
   "metadata": {},
   "outputs": [],
   "source": [
    "polygons = list(multi_poly.geoms)"
   ]
  },
  {
   "cell_type": "code",
   "execution_count": null,
   "metadata": {},
   "outputs": [],
   "source": [
    "from shapely.geometry import MultiPolygon, Polygon\n",
    "import matplotlib.pyplot as plt\n",
    "\n",
    "\n",
    "# Plot the MultiPolygon\n",
    "fig, ax = plt.subplots()\n",
    "for polygon in polygons:\n",
    "    x, y = polygon.exterior.xy  # Get the exterior coordinates of each polygon\n",
    "    ax.plot(x, y, color='blue')\n",
    "    ax.fill(x, y, color='skyblue', alpha=0.5)  # Fill the polygon with transparency\n",
    "\n",
    "ax.set_title(\"MultiPolygon Plot\")\n",
    "plt.xlabel(\"Longitude\")\n",
    "plt.ylabel(\"Latitude\")\n",
    "plt.show()"
   ]
  },
  {
   "cell_type": "code",
   "execution_count": null,
   "metadata": {},
   "outputs": [],
   "source": []
  },
  {
   "cell_type": "code",
   "execution_count": null,
   "metadata": {},
   "outputs": [],
   "source": [
    "continental_us = polygons[np.argmax([p.area for p in polygons])]"
   ]
  },
  {
   "cell_type": "code",
   "execution_count": null,
   "metadata": {},
   "outputs": [],
   "source": [
    "continental_us"
   ]
  },
  {
   "cell_type": "code",
   "execution_count": null,
   "metadata": {},
   "outputs": [],
   "source": [
    "\n",
    "def is_in_us(latitude, longitude):\n",
    "    point = Point(longitude, latitude)\n",
    "    return continental_us.contains(point)\n"
   ]
  },
  {
   "cell_type": "code",
   "execution_count": null,
   "metadata": {},
   "outputs": [],
   "source": [
    "def custom_operation(row):\n",
    "    return (is_in_us(row[\"Latitude\"], row[\"Longitude\"]))"
   ]
  },
  {
   "cell_type": "code",
   "execution_count": null,
   "metadata": {},
   "outputs": [],
   "source": [
    "splots[\"USA\"] = splots.apply(custom_operation, axis = 1)"
   ]
  },
  {
   "cell_type": "code",
   "execution_count": null,
   "metadata": {},
   "outputs": [],
   "source": [
    "splots_usa = splots[splots[\"USA\"]]"
   ]
  },
  {
   "cell_type": "code",
   "execution_count": null,
   "metadata": {},
   "outputs": [],
   "source": [
    "colocations"
   ]
  },
  {
   "cell_type": "code",
   "execution_count": null,
   "metadata": {},
   "outputs": [],
   "source": [
    "plant_only = splots_usa[~splots_usa[\"PlotObservationID\"].isin(colocations[\"sPlot_plot\"])]"
   ]
  },
  {
   "cell_type": "code",
   "execution_count": null,
   "metadata": {},
   "outputs": [],
   "source": [
    "plant_only[\"bird\"] = 0"
   ]
  },
  {
   "cell_type": "code",
   "execution_count": null,
   "metadata": {},
   "outputs": [],
   "source": [
    "plant_only = plant_only.rename(columns = {\"Latitude\":\"lat\", \"Longitude\":\"lon\", \"PlotObservationID\": \"sPlot_plot\"})"
   ]
  },
  {
   "cell_type": "code",
   "execution_count": null,
   "metadata": {},
   "outputs": [],
   "source": [
    "len(plant_only), len(splots_usa)"
   ]
  },
  {
   "cell_type": "code",
   "execution_count": null,
   "metadata": {},
   "outputs": [],
   "source": [
    "plant_only[\"split\"] = \"train\""
   ]
  },
  {
   "cell_type": "code",
   "execution_count": null,
   "metadata": {},
   "outputs": [],
   "source": [
    "#ADD env data"
   ]
  },
  {
   "cell_type": "code",
   "execution_count": null,
   "metadata": {},
   "outputs": [],
   "source": [
    "bioclim = pd.read_csv(\"/network/projects/ecosystem-embeddings/sPlotOpen/worldclim_data.csv\")"
   ]
  },
  {
   "cell_type": "code",
   "execution_count": null,
   "metadata": {},
   "outputs": [],
   "source": [
    "soilgrids = pd.read_csv(\"/network/projects/ecosystem-embeddings/sPlotOpen/soilgrid_data.csv\")"
   ]
  },
  {
   "cell_type": "code",
   "execution_count": null,
   "metadata": {},
   "outputs": [],
   "source": [
    "bioclim.columns = bioclim.columns.str.lower()\n",
    "bioclim = bioclim.rename(columns = {\"plotobservationid\": \"sPlot_plot\"})\n",
    "soilgrids.columns =soilgrids.columns.str.lower()\n",
    "soilgrids = soilgrids.rename(columns = {\"plotobservationid\": \"sPlot_plot\"})\n"
   ]
  },
  {
   "cell_type": "code",
   "execution_count": null,
   "metadata": {},
   "outputs": [],
   "source": [
    "merged_plants= plant_only.merge(soilgrids, left_on = \"sPlot_plot\", right_on = \"sPlot_plot\")"
   ]
  },
  {
   "cell_type": "code",
   "execution_count": null,
   "metadata": {},
   "outputs": [],
   "source": [
    "merged_plants= merged_plants.merge(bioclim, left_on = \"sPlot_plot\", right_on = \"sPlot_plot\")"
   ]
  },
  {
   "cell_type": "code",
   "execution_count": null,
   "metadata": {},
   "outputs": [],
   "source": [
    "merged_plants = merged_plants.drop(columns = [\"Unnamed: 0\", \"unnamed: 0_x\"])"
   ]
  },
  {
   "cell_type": "code",
   "execution_count": null,
   "metadata": {},
   "outputs": [],
   "source": [
    "merged = satbird.merge(merged_plants, how = \"outer\")"
   ]
  },
  {
   "cell_type": "code",
   "execution_count": null,
   "metadata": {},
   "outputs": [],
   "source": [
    "merged = merged.drop(columns = [\"unnamed: 0_y\", \"USA\"])"
   ]
  },
  {
   "cell_type": "code",
   "execution_count": null,
   "metadata": {},
   "outputs": [],
   "source": [
    "merged.to_csv(\"/network/projects/ecosystem-embeddings/SatBirdxsPlots/satbird_splots.csv\")"
   ]
  },
  {
   "cell_type": "markdown",
   "metadata": {},
   "source": [
    "# save splits"
   ]
  },
  {
   "cell_type": "code",
   "execution_count": null,
   "metadata": {},
   "outputs": [],
   "source": [
    "train = merged[merged[\"split\"]==\"train\"]\n",
    "valid = merged[merged[\"split\"]==\"valid\"]\n",
    "test = merged[merged[\"split\"]==\"test\"]"
   ]
  },
  {
   "cell_type": "code",
   "execution_count": null,
   "metadata": {},
   "outputs": [],
   "source": [
    "coloc_test = test[test[\"bird\"]==1]\n",
    "coloc_test = coloc_test[coloc_test[\"plant\"]==1]"
   ]
  },
  {
   "cell_type": "code",
   "execution_count": null,
   "metadata": {},
   "outputs": [],
   "source": [
    "coloc_test.to_csv(\"/network/projects/ecosystem-embeddings/SatBirdxsPlots/satbird_splots_test_split.csv\")"
   ]
  },
  {
   "cell_type": "code",
   "execution_count": null,
   "metadata": {},
   "outputs": [],
   "source": [
    "coloc_valid = valid[valid[\"bird\"]==1]\n",
    "coloc_valid = coloc_valid[coloc_valid[\"plant\"]==1]"
   ]
  },
  {
   "cell_type": "code",
   "execution_count": null,
   "metadata": {},
   "outputs": [],
   "source": [
    "coloc_valid.to_csv(\"/network/projects/ecosystem-embeddings/SatBirdxsPlots/satbird_splots_valid_split_coloc.csv\")"
   ]
  },
  {
   "cell_type": "code",
   "execution_count": null,
   "metadata": {},
   "outputs": [],
   "source": [
    "valid.to_csv(\"/network/projects/ecosystem-embeddings/SatBirdxsPlots/satbird_splots_valid_split.csv\")"
   ]
  },
  {
   "cell_type": "code",
   "execution_count": null,
   "metadata": {},
   "outputs": [],
   "source": [
    "len(coloc_valid), len(coloc_test), len(valid)"
   ]
  },
  {
   "cell_type": "code",
   "execution_count": null,
   "metadata": {},
   "outputs": [],
   "source": [
    "train.to_csv(\"/network/projects/ecosystem-embeddings/SatBirdxsPlots/satbird_splots_train_split.csv\")"
   ]
  },
  {
   "cell_type": "code",
   "execution_count": null,
   "metadata": {},
   "outputs": [],
   "source": [
    "len(train)"
   ]
  },
  {
   "metadata": {},
   "cell_type": "markdown",
   "source": "Get present species only"
  },
  {
   "metadata": {
    "ExecuteTime": {
     "end_time": "2025-06-09T16:11:35.432579Z",
     "start_time": "2025-06-09T16:11:35.113626Z"
    }
   },
   "cell_type": "code",
   "source": [
    "from numpy import sort\n",
    "import pickle\n",
    "import pandas as pd\n",
    "import numpy as np\n",
    "\n",
    "def get_non_zero_indices(data_split):\n",
    "    \"\"\"\n",
    "    This is for validation and test in the setup: satbirdxsplots\n",
    "    :param data_split: \n",
    "    :return: \n",
    "    \"\"\"\n",
    "    with open(\"../data/sPlotOpen/sPlotOpen_targets_US_only.pkl\", \"rb\") as pickle_file:\n",
    "        targets = pickle.load(pickle_file)\n",
    "    \n",
    "    observations = []\n",
    "    for plot_id in data_split['PlotObservationID'].tolist():\n",
    "        target = targets.get(int(plot_id))\n",
    "        observations.append(target)\n",
    "    observations = np.array(observations)\n",
    "    print(observations.shape)\n",
    "    non_zero_indices = observations.sum(0) != 0\n",
    "    num_classes = int(non_zero_indices.sum(0))\n",
    "    print(num_classes)\n",
    "    non_zero_indices = np.nonzero(observations.sum(axis=0))[0]\n",
    "    return non_zero_indices\n",
    "\n",
    "data_split = pd.read_csv(\"../data/satbirdxsplotopen/satbird_splots_test_split.csv\")\n",
    "non_zero_indices = get_non_zero_indices(data_split)\n",
    "np.save('../data/satbirdxsplotopen/plant_test_species_indices_US_only_new.npy', non_zero_indices)\n",
    "# original_non_zero_indices = sort(np.load('../data/satbirdxsplotopen/plant_test_species_indices_US_only.npy'))\n",
    "# print(np.allclose(non_zero_indices, original_non_zero_indices))\n",
    "print(non_zero_indices)\n",
    "print(non_zero_indices.shape)"
   ],
   "outputs": [
    {
     "name": "stdout",
     "output_type": "stream",
     "text": [
      "(248, 607)\n",
      "502\n",
      "[  0   1   2   3   4   5   6   7   8   9  10  11  12  13  14  15  16  18\n",
      "  19  20  21  22  24  25  26  27  28  29  30  31  32  33  34  35  36  37\n",
      "  38  39  40  41  43  44  45  46  47  48  49  50  51  52  53  55  56  58\n",
      "  59  60  61  62  63  64  65  66  67  68  69  71  72  73  74  75  76  77\n",
      "  78  79  80  81  82  83  85  87  88  89  90  91  92  93  94  95  96  97\n",
      " 101 103 104 105 106 107 108 109 110 111 112 113 115 116 117 118 119 120\n",
      " 121 122 123 124 125 126 127 128 129 130 132 133 134 135 137 138 139 140\n",
      " 141 142 143 144 146 148 149 151 152 153 154 155 156 158 160 161 162 164\n",
      " 165 167 172 173 174 177 178 179 180 181 182 183 184 185 186 187 188 189\n",
      " 190 191 192 193 194 195 196 197 198 202 204 205 206 207 209 210 213 214\n",
      " 215 216 217 218 219 222 223 224 225 227 228 229 230 231 232 233 234 235\n",
      " 237 238 239 240 241 242 243 244 245 246 248 249 250 251 253 256 258 259\n",
      " 260 261 262 263 265 266 267 268 269 270 271 272 273 274 275 276 277 278\n",
      " 279 280 281 282 283 284 288 289 290 291 292 293 294 295 296 298 299 300\n",
      " 301 302 303 304 305 306 307 308 313 314 315 316 317 319 320 321 322 323\n",
      " 324 326 327 328 329 330 331 332 333 334 335 337 338 339 341 343 344 346\n",
      " 347 348 349 350 351 352 353 354 355 356 357 358 359 360 361 362 364 365\n",
      " 367 368 369 371 372 373 375 378 379 380 383 384 385 386 388 389 390 391\n",
      " 392 393 394 395 396 397 399 400 401 402 403 404 405 406 407 409 411 412\n",
      " 413 414 415 416 417 418 419 420 422 423 424 426 427 428 429 430 431 432\n",
      " 433 434 435 436 439 442 443 444 445 446 447 448 449 450 451 452 453 454\n",
      " 455 456 457 460 461 462 464 465 466 467 468 469 470 471 472 473 474 475\n",
      " 476 477 478 479 481 482 484 485 486 487 488 489 490 491 494 495 496 497\n",
      " 498 499 500 501 502 503 504 505 506 507 508 509 510 511 512 513 514 515\n",
      " 516 518 519 520 521 522 523 525 526 527 528 530 531 532 533 534 535 536\n",
      " 537 538 541 542 544 545 546 547 548 549 551 552 555 557 558 559 560 561\n",
      " 562 563 565 566 567 568 569 570 571 572 574 575 576 577 578 580 582 583\n",
      " 585 586 587 588 592 593 594 595 596 597 598 599 600 602 604 605]\n",
      "(502,)\n"
     ]
    }
   ],
   "execution_count": 22
  },
  {
   "metadata": {},
   "cell_type": "code",
   "outputs": [],
   "execution_count": null,
   "source": ""
  }
 ],
 "metadata": {
  "kernelspec": {
   "display_name": "Python 3 (ipykernel)",
   "language": "python",
   "name": "python3"
  },
  "language_info": {
   "codemirror_mode": {
    "name": "ipython",
    "version": 3
   },
   "file_extension": ".py",
   "mimetype": "text/x-python",
   "name": "python",
   "nbconvert_exporter": "python",
   "pygments_lexer": "ipython3",
   "version": "3.10.15"
  }
 },
 "nbformat": 4,
 "nbformat_minor": 4
}
